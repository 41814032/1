{
 "cells": [
  {
   "cell_type": "markdown",
   "metadata": {},
   "source": [
    "<div  style=\"color:black; width: 100%; background: linear-gradient(to right , #174ca9, #4472c4, #174ca9 ) no-repeat left top; border-bottom:6px solid #4caf4f; position: relative;\"> \n",
    "    <div style=\"color:#fff; line-height:54px;font-size:30px;padding-top:15px; text-align: center; font-weight: bold; \">金融科技II - 量化交易过程</div>\n",
    "<div style=\"color:#fff;font-size:20px; font-weight: bold; padding-top:20x; text-align: center;\">证券市场概述</div>\n",
    "<div style=\" text-align: center; color:rgba(255,255,255,.8); padding-top:15px; padding-bottom:20px;\">西南财经大学 陈春林 黄辰</div>\n",
    "</div>"
   ]
  },
  {
   "cell_type": "markdown",
   "metadata": {},
   "source": [
    "# 第三章 证券市场概述"
   ]
  },
  {
   "cell_type": "markdown",
   "metadata": {},
   "source": [
    "## 3.1 投资标的\n",
    "\n",
    "沪深交易所发行、上市的股票、沪港通中港股通标的范围内的股票、深港通中港股通标的范围内的股票、沪深交易所发行及上市的存托凭证、优先股、债券、资产支持证券、资产支持票据、证券公司收益凭证、债券回购、商业银行理财产品、现金、银行存款（包括定期存款、协议存款、结构性存款和其他银行存款）、同业存单、融资融券、转融通证券出借交易（即本基金将其持有的证券作为融券标的证券出借给证券金融公司）、证券交易所及期货交易所上市的期权及期货、上海黄金交易所上市的合约品种、公募基金、证券公司及其子公司资产管理计划、保险公司及其子公司资产管理计划、期货公司及其子公司资产管理计划、基金公司及其子公司特定客户资产管理计划、于基金业协会官方网站公示已登记的且机构类别为私募证券投资基金管理人发行的私募基金、私募债、ABS、场外期权等。"
   ]
  },
  {
   "cell_type": "markdown",
   "metadata": {},
   "source": [
    "## 3.2 市场机制\n",
    "\n",
    "### 3.2.1 集中交易\n",
    "\n",
    "集中交易是区别于非集中交易而言的，是指证券在证券交易所以公开、集中的方式进行买卖的交易方式，是证券流通的主要途径和证券交易的核心。\n",
    "\n",
    "根据价格形成机制的不同，集中交易又可分为集中竞价交易、大宗交易和协议转让。\n",
    "\n",
    "#### 3.2.1.1 集中竞价\n",
    "\n",
    "集中竞价交易是多个买主和与多个卖主之间，出价最低的卖主与进价最高的买主达成的交易。买卖双方通过指定的经纪商把委托传送至交易市场，一般地，开盘价格由集合竞价形成，随后交易系统按照价格优先、时间优先的原则对不断进入的投资者交易指令进行排序，将买卖指令予以配对竞价成交。竞价制度本质上是一种指令驱动制度，其基本特征就是成交价格由买卖双方按照竞价原则直接决定。集中竞价交易是我国证券市场最主要的交易方式。\n",
    "\n",
    "#### 3.2.1.2 大宗交易\n",
    "\n",
    "大宗交易是指达到规定的最低限额的证券单笔买卖申报，买卖双方达成一致后经交易所确认成交的证券交易。我国的大宗交易适用于在交易所上市的股票、基金、债券和债券回购的交易，大宗交易不纳入交易所即时行情和指数的计算，成交量在大宗交易结束后计入该证券成交总量。\n",
    "\n",
    "#### 3.2.1.3 协议转让\n",
    "\n",
    "协议转让亦是一种国际通行的证券交易方式，是指当事人通过非竞价的协议方式转让股份，一般包括上市公司收购、重大资产重组等情形。随着我国股权分置改革的不断深入，上市公司流通股权比重的不断上升，协议转让将成为一种重要的交易方式。\n",
    "\n",
    "### 3.2.2 涨跌停板与熔断\n",
    "\n",
    "涨跌停板制度是为了防止股市的价格发生暴涨暴跌而影响市场的正常运行，股票市场的管理机构对每日股票买卖价格涨跌的上下限作出规定的行为。即每天市场价格达到了上限或下限时，不允许再有涨跌，术语称为“涨跌停板”。当天市价的最后上限叫 “涨停板”，最低下限叫 “跌停板”。\n",
    "\n",
    "熔断，是指对某一合约在达到涨跌停板之前，设置一个熔断价格，使合约买卖报价在一段时间内只能在这一价格范围内交易的机制。\n",
    "\n",
    "### 3.2.3 T+1交易制度\n",
    "\n",
    "当日买进的股票，要到下一个交易日才能卖出。“T”指交易登记日，“T+1”指登记日的次日。中国股市实行“T+1”交易制度。我国的T+1制度起始于1995年1月1日，主要是为了保证股票市场的稳定，防止过度投机。"
   ]
  },
  {
   "cell_type": "markdown",
   "metadata": {},
   "source": [
    "## 3.3 参与主体\n",
    "\n",
    "### 3.3.1 证券发行人\n",
    "\n",
    "证券发行人是指为筹措资金而发行债券、股票等证券的发行主体。包括公司、政府和政府机构。\n",
    "\n",
    "### 3.3.2 证券投资人\n",
    "\n",
    "证券投资者是指通过买入证券而进行投资的各类机构法人和自然人。相应地,证券投资人可分为机构投资者和个人投资者两大类。机构投资者主要有政府机构、金融机构、企业和事业法人及各类基金等。个人投资者是指从事证券投资的社会自然人，他们是证券市场最广泛的投资者。\n",
    "\n",
    "### 3.3.3 证券市场中介机构\n",
    "\n",
    "证券市场中介机构是指为证券的发行、交易提供服务的各类机构。在证券市场起中介作用的机构是证券公司和证券服务机构,其中后者主要包括证券投资咨询机构、证券登记结算机构、财务顾问机构、资信评级机构、资产评估机构、会计师事务所、律师事务所等。\n",
    "\n",
    "### 3.3.4 自律性组织\n",
    "\n",
    "证券市场的自律性组织主要包括证券交易所和行业协会。我国的证券登记结算机构也实行行业自律管理。\n",
    "\n",
    "### 3.3.5 证券监管机构\n",
    "\n",
    "在我国,证券监管机构是指中国证监会及其派出机构。它的主要职责是:依法制定有关证券市场监督管理的规章、规则,负责监督有关法律法规的执行,负责保护投资者的合法权益,对全国的证券发行、证券交易、中介机构的行为等依法实施全面监管,维持公平而有序的证券市场。"
   ]
  },
  {
   "cell_type": "markdown",
   "metadata": {},
   "source": [
    "<div  style=\"color:black; width: 100%; border-top:2px #0f69b6 solid; height:40px;\"> \n",
    "<span style=\"color:#0f69b6; padding-left:10px; padding-top:10px;  float:left\">第 3 章</span>\n",
    "<span style=\"color:#0f69b6;  float:right; text-align: right; padding-right:10px; padding-top:10px;\">西南财经大学</span>\n",
    "</div>\n"
   ]
  }
 ],
 "metadata": {
  "kernelspec": {
   "display_name": "Python 3",
   "language": "python",
   "name": "python3"
  },
  "language_info": {
   "codemirror_mode": {
    "name": "ipython",
    "version": 3
   },
   "file_extension": ".py",
   "mimetype": "text/x-python",
   "name": "python",
   "nbconvert_exporter": "python",
   "pygments_lexer": "ipython3",
   "version": "3.7.3"
  },
  "toc": {
   "base_numbering": 1,
   "nav_menu": {},
   "number_sections": true,
   "sideBar": true,
   "skip_h1_title": false,
   "title_cell": "Table of Contents",
   "title_sidebar": "Contents",
   "toc_cell": false,
   "toc_position": {},
   "toc_section_display": true,
   "toc_window_display": false
  }
 },
 "nbformat": 4,
 "nbformat_minor": 2
}
