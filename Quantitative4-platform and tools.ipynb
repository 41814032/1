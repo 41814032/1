{
 "cells": [
  {
   "cell_type": "markdown",
   "metadata": {},
   "source": [
    "<div  style=\"color:black; width: 100%; background: linear-gradient(to right , #174ca9, #4472c4, #174ca9 ) no-repeat left top; border-bottom:6px solid #4caf4f; position: relative;\"> \n",
    "    <div style=\"color:#fff; line-height:54px;font-size:30px;padding-top:15px; text-align: center; font-weight: bold; \">金融科技II - 量化交易过程</div>\n",
    "<div style=\"color:#fff;font-size:20px; font-weight: bold; padding-top:20x; text-align: center;\">量化投资平台与工具</div>\n",
    "<div style=\" text-align: center; color:rgba(255,255,255,.8); padding-top:15px; padding-bottom:20px;\">西南财经大学 陈春林 黄辰</div>\n",
    "</div>"
   ]
  },
  {
   "cell_type": "markdown",
   "metadata": {},
   "source": [
    "# 第四章 量化投资平台与工具"
   ]
  },
  {
   "cell_type": "markdown",
   "metadata": {},
   "source": [
    "## 4.1 研究平台\n",
    "\n",
    "### 4.1.1 JoinQuant\n",
    "\n",
    "聚宽，国内量化平台的创导者，专注于金融量化工具和智能投顾的原创技术，是中国领先的金融科技公司。\n",
    "\n",
    "以“科技驱动金融，量化透视投资”作为长效使命，致力于通过数据、引擎、AI等技术手段帮助传统金融机构升级迭代，赋能其技术能力。2016-2017年，凭借出色的交互体验，扎实的技术实力，超过20家机构选择聚宽作为专业的合作伙伴，包括广发证券、国泰君安、平安证券等国内知名券商，目前基于聚宽平台技术能力和策略研发能力，已提供涵盖量化平台、智能投顾、策略研发等多项完整技术解决方案。\n",
    "\n",
    "2017年聚宽获得来自百度的近亿元B轮融资，已在北京、上海、深圳等各地设立分部，团队由多年从事基金、证券行业的金融精英和百度、腾讯等互联网企业出身的顶尖工程师组成。\n",
    "\n",
    "### 4.1.2 MindGo\n",
    "\n",
    "MindGo是同花顺旗下的量化交易平台。\n",
    "\n",
    "### 4.1.3 BigQuant\n",
    "\n",
    "宽邦科技是领先的人工智能平台和服务供应商，致力于用AI赋能商业和个人。\n",
    " \n",
    "宽邦科技聚焦证券和金融行业，于2016年研发了全国首款人工智能量化平台 BigQuant，入选工信部AIIA中国人工智能TOP 100案例，已服务数万专业量化者，并被多家头部机构采用。2017年底，宽邦再次领先行业，率先推出全栈人工智能平台 BigAI，用人工智能赋能企业，帮助企业快速实现人工智能升级，以实现更大的商业价值。\n",
    "\n",
    "2017年7月，天使轮融资；2018年3月，中信证券采购宽邦PaaS平台。\n",
    "\n",
    "### 4.1.4 MyQuant\n",
    "MyQuant又叫掘金量化交易平台。\n",
    "\n",
    "### 4.1.5 优矿\n",
    "\n",
    "通联数据旗下的基于Python的量化交易平台。\n",
    "\n",
    "### 4.1.6 RiceQuant\n",
    "\n",
    "米筐科技推出的量化交易平台。2017年9月获得恒生电子A+轮投资并达成战略合作。\n",
    "\n",
    "### 4.1.7 果仁网\n",
    "\n",
    "果仁网是国内最活跃的非编程量化平台, 为用户提供策略开发，策略分享，策略组合交易管理一站式服务。有选股软件（比如通达信、大智慧、同花顺）使用经验的用户学习使用果仁功能0门槛。门槛低、效率高是果仁网的最大特点。 "
   ]
  },
  {
   "cell_type": "markdown",
   "metadata": {},
   "source": [
    "## 4.2 程序设计语言\n",
    "\n",
    "### 4.2.1 Python\n",
    "\n",
    "Python的创始人为荷兰人吉多·范罗苏姆。1989年圣诞节期间，在阿姆斯特丹，吉多为了打发圣诞节的无趣，决心开发一个新的脚本解释程序，作为ABC 语言的一种继承。\n",
    "\n",
    "ABC是由吉多参加设计的一种教学语言。就吉多本人看来，ABC 这种语言非常优美和强大，是专门为非专业程序员设计的。但是ABC语言并没有成功，究其原因，吉多认为是其非开放造成的。吉多决心在Python 中避免这一错误。同时，他还想实现在ABC 中闪现过但未曾实现的东西。\n",
    "\n",
    "就这样，Python在吉多手中诞生了。可以说，Python是从ABC发展起来，主要受到了Modula-3（另一种相当优美且强大的语言，为小型团体所设计的）的影响。并且结合了Unix shell和C的习惯。\n",
    "\n",
    "Python已经成为最受欢迎的程序设计语言之一。自从2004年以后，Python的使用率呈线性增长。2011年1月，它被TIOBE编程语言排行榜评为2010年度语言。\n",
    "\n",
    "由于Python语言的简洁性、易读性以及可扩展性，在国外用Python做科学计算的研究机构日益增多，一些知名大学已经采用Python来教授程序设计课程。例如卡耐基梅隆大学的编程基础、麻省理工学院的计算机科学及编程导论就使用Python语言讲授。众多开源的科学计算软件包都提供了Python的调用接口，例如著名的计算机视觉库OpenCV、三维可视化库VTK、医学图像处理库ITK。而Python专用的科学计算扩展库就更多了，例如如下3个十分经典的科学计算扩展库：NumPy、SciPy和matplotlib，它们分别为Python提供了快速数组处理、数值运算以及绘图功能。因此Python语言及其众多的扩展库所构成的开发环境十分适合工程技术、科研人员处理实验数据、制作图表，甚至开发科学计算应用程序。\n",
    "\n",
    "\n",
    "### 4.2.2 C++\n",
    "\n",
    "20世纪70年代中期，Bjarne Stroustrup在剑桥大学计算机中心工作。他使用过Simula，接触过C。他对Simula的类体系感受颇深。1979年，Bjame Sgoustrup到了Bell实验室，开始从事将C改良为带类的C的工作。1983年该语言被正式命名为C++。\n",
    "\n",
    "自从C++被发明以来，它经历了3次主要的修订，每一次修订都为C++增加了新的特征并作了一些修改。第一次修订是在1985年，第二次修订是在1990年，而第三次修订发生在c++的标准化过程中。\n",
    "\n",
    "在20世纪90年代早期，人们开始为C++建立一个标准，并成立了一个ANSI和ISO国际标准化组织的联合标准化委员会。该委员会在1994年1月25曰提出了第一个标准化草案。在这个草案中，委员会在保持Stroustrup最初定义的所有特征的同时，还增加了一些新的特征。\n",
    "\n",
    "在完成C++标准化的第一个草案后不久，发生了一件事情使得C++标准被极大地扩展了：Alexander stepanov创建了标准模板库（STL）。STL不仅功能强大，同时非常优雅，然而，它也是非常庞大的。在通过了第一个草案之后，委员会投票并通过了将STL包含到C++标准中的提议。STL对C++的扩展超出了C++的最初定义范围。虽然在标准中增加STL是个很重要的决定，但也因此延缓了C++标准化的进程。委员会于1997年11月14日通过了该标准的最终草案，1998年，C++的ANSI/IS0标准被投入使用。通常，这个版本的C++被认为是标准C++。所有的主流C++编译器都支持这个版本的C++，包括微软的Visual C++和Borland公司的C++Builder。\n",
    "\n",
    "### 4.2.3 Java\n",
    "\n",
    "Java是一门面向对象编程语言，不仅吸收了C++语言的各种优点，还摒弃了C++里难以理解的多继承、指针等概念，因此Java语言具有功能强大和简单易用两个特征。Java语言作为静态面向对象编程语言的代表，极好地实现了面向对象理论，允许程序员以优雅的思维方式进行复杂的编程。\n",
    "\n",
    "20世纪90年代，硬件领域出现了单片式计算机系统，它可以大幅度提升消费类电子产品的智能化程度。Sun公司为了抢占市场先机，在1991年成立了一个称为Green的项目小组，专攻计算机在家电产品上的嵌入式应用。由于C++所具有的优势，该项目组的研究人员首先考虑采用C++来编写程序。但对于硬件资源极其匮乏的单片式系统来说，C++程序过于复杂和庞大。Sun公司研发人员并没有开发一种全新的语言，而是根据嵌入式软件的要求，对C++进行了改造，开发了一种称为Oak的面向对象语言。1995年，Sun公司将Oak更名为Java。5月23日，Sun公司在Sun world会议上正式发布Java和HotJava浏览器。各大公司都纷纷停止了自己的相关开发项目，竞相购买了Java使用许可证，并为自己的产品开发了相应的Java平台。2009年，甲骨文公司宣布收购Sun。\n",
    "\n",
    "### 4.2.4 R\n",
    "\n",
    "R是用于统计分析、绘图的语言和操作环境。R是属于GNU系统的一个自由、免费、源代码开放的软件，它是一个用于统计计算和统计制图的优秀工具。\n",
    "\n",
    "R是统计领域广泛使用的诞生于1980年左右的S语言的一个分支。可以认为R是S语言的一种实现。最初S语言的实现版本主要是S-PLUS。S-PLUS是一个商业软件，它基于S语言。后来新西兰奥克兰大学的Robert Gentleman和Ross Ihaka及其他志愿人员开发了一个R系统。由“R开发核心团队”负责开发。两者在程序语法上可以说是几乎一样的,可能只是在函数方面有细微差别,程序十分容易地就能移植到一程序中,而很多一的程序只要稍加修改也能运用于R。\n",
    "\n",
    "### 4.2.5 matlab\n",
    "\n",
    "MATLAB是美国MathWorks公司出品的商业数学软件，用于算法开发、数据可视化、数据分析以及数值计算的高级技术计算语言和交互式环境，主要包括MATLAB和Simulink两大部分。\n",
    "\n",
    "MATLAB是matrix&laboratory两个词的组合，意为矩阵工厂（矩阵实验室）。它为科学研究、工程设计以及必须进行有效数值计算的众多科学领域提供了一种全面的解决方案，并在很大程度上摆脱了传统非交互式程序设计语言（如C、Fortran）的编辑模式，代表了当今国际科学计算软件的先进水平。\n",
    "\n",
    "MATLAB和Mathematica、Maple并称为三大数学软件。它在数学类科技应用软件中在数值计算方面首屈一指。MATLAB可以进行矩阵运算、绘制函数和数据、实现算法、创建用户界面、连接其他编程语言的程序等，主要应用于工程计算、控制设计、信号处理与通讯、图像处理、信号检测、金融建模设计与分析等领域。\n",
    "\n",
    "### 4.2.6 Go\n",
    "\n",
    "Go（又称Golang）是Google开发的一种静态强类型、编译型、并发型，并具有垃圾回收功能的编程语言。Go于2009年11月正式宣布推出，成为开放源代码项目。在2016年，Go被软件评价公司TIOBE 选为“TIOBE 2016 年最佳语言”。 "
   ]
  },
  {
   "cell_type": "markdown",
   "metadata": {},
   "source": [
    "<div  style=\"color:black; width: 100%; border-top:2px #0f69b6 solid; height:40px;\"> \n",
    "<span style=\"color:#0f69b6; padding-left:10px; padding-top:10px;  float:left\">第 4 章</span>\n",
    "<span style=\"color:#0f69b6;  float:right; text-align: right; padding-right:10px; padding-top:10px;\">西南财经大学</span>\n",
    "</div>\n"
   ]
  }
 ],
 "metadata": {
  "kernelspec": {
   "display_name": "Python 3",
   "language": "python",
   "name": "python3"
  },
  "language_info": {
   "codemirror_mode": {
    "name": "ipython",
    "version": 3
   },
   "file_extension": ".py",
   "mimetype": "text/x-python",
   "name": "python",
   "nbconvert_exporter": "python",
   "pygments_lexer": "ipython3",
   "version": "3.7.3"
  },
  "toc": {
   "base_numbering": 1,
   "nav_menu": {},
   "number_sections": true,
   "sideBar": true,
   "skip_h1_title": false,
   "title_cell": "Table of Contents",
   "title_sidebar": "Contents",
   "toc_cell": false,
   "toc_position": {},
   "toc_section_display": true,
   "toc_window_display": false
  }
 },
 "nbformat": 4,
 "nbformat_minor": 2
}
