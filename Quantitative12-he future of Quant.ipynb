{
 "cells": [
  {
   "cell_type": "markdown",
   "metadata": {},
   "source": [
    "<div  style=\"color:black; width: 100%; background: linear-gradient(to right , #174ca9, #4472c4, #174ca9 ) no-repeat left top; border-bottom:6px solid #4caf4f; position: relative;\"> \n",
    "    <div style=\"color:#fff; line-height:54px;font-size:30px;padding-top:15px; text-align: center; font-weight: bold; \">金融科技II - 量化交易过程</div>\n",
    "<div style=\"color:#fff;font-size:20px; font-weight: bold; padding-top:20x; text-align: center;\">量化投资的未来</div>\n",
    "<div style=\" text-align: center; color:rgba(255,255,255,.8); padding-top:15px; padding-bottom:20px;\">西南财经大学 陈春林 黄辰</div>\n",
    "</div>"
   ]
  },
  {
   "cell_type": "markdown",
   "metadata": {},
   "source": [
    "# 第十二章 量化投资的未来\n",
    "\n",
    "在课程的开头，我们介绍了量化投资的历史和现状，我们的用词似乎有些悲观。毕竟，已有的策略已经被理论证明是最优的，而在实践中也已经被玩饱和了。那么，未来，将何去何从？\n",
    "\n",
    "## 12.1 人工智能的崛起\n",
    "\n",
    "在20世纪60-80年代，人们发明了一系列浅层学习算法，掀起了第一波人工智能的热潮。\n",
    "\n",
    "然而，受限于计算机的计算能力和算法，人工智能就仅局限于浅层学习。然而，浅层学习毕竟能解决的问题有限，因此，80-90年代，人工智能陷入沉寂。\n",
    "\n",
    "2006年，加拿大多伦多大学的Hinton在算法上有了突破，同时计算机的计算能力也大幅提升，人工智能逐步进入第二波高潮。\n",
    "\n",
    "### 12.1.1 Hinton\n",
    "\n",
    "2006年，Hinton提出了在非监督数据上建立多层神经网络的一个有效方法，具体分为两步：首先逐层构建单层神经元，这样每次都是训练一个单层网络；当所有层训练完后，使用wake-sleep算法进行调优。\n",
    "\n",
    "将除最顶层的其他层间的权重变为双向的，这样最顶层仍然是一个单层神经网络，而其他层则变为了图模型。向上的权重用于“认知”，向下的权重用于“生成”。然后使用wake-sleep算法调整所有的权重。让认知和生成达成一致，也就是保证生成的最顶层表示能够尽可能正确的复原底层的节点。比如顶层的一个节点表示人脸，那么所有人脸的图像应该激活这个节点，并且这个结果向下生成的图像应该能够表现为一个大概的人脸图像。wake-sleep算法分为醒( wake)和睡(sleep)两个部分。\n",
    "\n",
    "wake阶段：认知过程，通过外界的特征和向上的权重产生每一层的抽象表示，并且使用梯度下降修改层间的下行权重。\n",
    "\n",
    "sleep阶段：生成过程，通过顶层表示和向下权重，生成底层的状态，同时修改层间向上的权重。\n",
    "\n",
    "### 12.1.2 AlphaGo\n",
    "\n",
    "AlphaGo是第一个击败人类职业围棋选手、第一个战胜围棋世界冠军的人工智能机器人，由谷歌（Google）旗下DeepMind公司戴密斯·哈萨比斯领衔的团队开发。其主要工作原理是“深度学习”。2016年末2017年初，该程序在中国棋类网站上以Master为注册账号与中日韩数十位围棋高手进行快棋对决，连续60局无一败绩；2016年3月，AlphaGo与围棋世界冠军、职业九段棋手李世石进行围棋人机大战，以4比1的总比分获胜；2017年5月，在中国乌镇围棋峰会上，它与排名世界第一的世界围棋冠军柯洁对战，以3比0的总比分获胜。\n",
    "\n",
    "### 12.1.3 Kensho\n",
    "\n",
    "2018年，美国智能投研先行者Kensho被标普全球（S&P GLOBAL）以5.5亿美元收购，以现金加股票的方式。同时，这也创造了迄今为止华尔街最大规模的人工智能公司收购交易。\n",
    "\n",
    "Kensho的自我定位是数据分析与机器学习公司，为金融、国家安全、医疗健康行业解决分析问题。\n",
    "\n",
    "其中，它在金融领域的成就更广为人所知。旗下拥有一款名为Warren分析软件，主要利用大数据和机器学习，将数据、信息、决策进行智能整合，并实现数据之间的智能化关联，从而提高投资者工作效率和投资能力。\n",
    "\n",
    "另外，Kensho目前披露的投资方除了Google、In-Q-Tel（中央情报局风险投资部门）外，就是数家知名的金融巨头，如标普全球、高盛、摩根大通、花旗银行、摩根史丹利等。\n",
    "\n",
    "Kensho利用机器学习简化金融分析，使之像在Google上搜索那样简单。他们构建了一个名为Warren的算法，分析数百万的市场数据发现相关性和套利机会。虽然技术很复杂，但界面很简单：用户在文本框中用简洁的语言写下复杂的问题。提出疑问后，Warren将会搜索90000个事件，比如药物审批，经济报告，货币政策变化，政治事件并评估它们将会对金融资产产生的影响，并即刻给出答案。\n",
    "\n",
    "\n",
    "## 12.2 人工智能的局限\n",
    "\n",
    "### 12.2.1弱人工智能与强人工智能\n",
    "\n",
    "#### 12.2.1.1 强人工智能(BOTTOM-UP AI)\n",
    "\n",
    "强人工智能观点认为有可能制造出真正能推理（REASONING）和解决问题（PROBLEM_SOLVING）的智能机器，并且，这样的机器能将被认为是有知觉的，有自我意识的。强人工智能可以有两类：\n",
    "1. 类人的人工智能，即机器的思考和推理就像人的思维一样。\n",
    "2. 非类人的人工智能，即机器产生了和人完全不一样的知觉和意识，使用和人完全不一样的推理方式。\n",
    "\n",
    "#### 12.2.1.2 弱人工智能(TOP-DOWN AI)\n",
    "\n",
    "弱人工智能观点认为不可能制造出能真正地推理（REASONING）和解决问题（PROBLEM_SOLVING）的智能机器，这些机器只不过看起来像是智能的，但是并不真正拥有智能，也不会有自主意识。\n",
    "\n",
    "主流科研集中在弱人工智能上，并且一般认为这一研究领域已经取得可观的成就。强人工智能的研究则处于停滞不前的状态下。\n",
    "\n",
    "### 12.2.2 信噪比的高与低\n",
    "\n",
    "目前弱人工智能应用的领域全部是信噪比高的领域，即信号与噪音的比例较高的领域。而金融投资领域恰恰是信噪比较低的领域，这需要强人工智能的逻辑推理才能解决。所以，从理论上来说，人工智能用于金融投资领域，暂时还不会有所作为。\n",
    "\n",
    "从实践中来说呢？从笔者对国内数十个顶尖私募基金的调研来看，使用人工智能的管理人，其业绩并无显著优势。这符合理论的预期。\n",
    "\n",
    "这也容易理解，在信噪比低的领域，如金融投资，我们的行为是否正确，无法用结果来验证。比如，我们赚了钱，并不一定是因为模型好，更可能是因为运气好；同样，我们亏了钱，并不一定是因为模型不好，更可能是因为运气不好。我们的盈亏，真要归因，那95%以上都是因为运气。这就干扰了我们去判断那5%的实力是高是低。如果我们硬要把运气归为实力，那必然陷入刻舟求剑的结局。\n",
    "\n",
    "## 12.3 未来之路\n",
    "\n",
    "经过这么多年的发展，行业已经走到了十字路口，赚钱的机会已经被抢得差不多了，接下来何去何从，行业都处于无助中。\n",
    "\n",
    "人工智能看起来是个发展方向。但是，Kensho仅仅还处于看起来很厉害的状态，这么长时间以来，我们仍未见到其有显著优与他人的业绩。如果人工智能在金融领域迟迟无法打开局面，那么，行业的危机，可能将要到来。\n",
    "\n"
   ]
  },
  {
   "cell_type": "markdown",
   "metadata": {},
   "source": [
    "<div  style=\"color:black; width: 100%; border-top:2px #0f69b6 solid; height:40px;\"> \n",
    "<span style=\"color:#0f69b6; padding-left:10px; padding-top:10px;  float:left\">第 12 章</span>\n",
    "<span style=\"color:#0f69b6;  float:right; text-align: right; padding-right:10px; padding-top:10px;\">西南财经大学</span>\n",
    "</div>"
   ]
  }
 ],
 "metadata": {
  "kernelspec": {
   "display_name": "Python 3",
   "language": "python",
   "name": "python3"
  },
  "language_info": {
   "codemirror_mode": {
    "name": "ipython",
    "version": 3
   },
   "file_extension": ".py",
   "mimetype": "text/x-python",
   "name": "python",
   "nbconvert_exporter": "python",
   "pygments_lexer": "ipython3",
   "version": "3.7.3"
  },
  "toc": {
   "base_numbering": 1,
   "nav_menu": {},
   "number_sections": true,
   "sideBar": true,
   "skip_h1_title": false,
   "title_cell": "Table of Contents",
   "title_sidebar": "Contents",
   "toc_cell": false,
   "toc_position": {},
   "toc_section_display": true,
   "toc_window_display": false
  }
 },
 "nbformat": 4,
 "nbformat_minor": 2
}
