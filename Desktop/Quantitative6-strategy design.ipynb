{
 "cells": [
  {
   "cell_type": "markdown",
   "metadata": {},
   "source": [
    "<div  style=\"color:black; width: 100%; background: linear-gradient(to right , #174ca9, #4472c4, #174ca9 ) no-repeat left top; border-bottom:6px solid #4caf4f; position: relative;\"> \n",
    "    <div style=\"color:#fff; line-height:54px;font-size:30px;padding-top:15px; text-align: center; font-weight: bold; \">金融科技II - 量化交易过程</div>\n",
    "<div style=\"color:#fff;font-size:20px; font-weight: bold; padding-top:20x; text-align: center;\">量化投资策略设计</div>\n",
    "<div style=\" text-align: center; color:rgba(255,255,255,.8); padding-top:15px; padding-bottom:20px;\">西南财经大学 陈春林 黄辰</div>\n",
    "</div>"
   ]
  },
  {
   "cell_type": "markdown",
   "metadata": {},
   "source": [
    "# 第六章 量化投资策略设计初探"
   ]
  },
  {
   "cell_type": "markdown",
   "metadata": {},
   "source": [
    "## 6.1 了解Python及常用财经数据接口包\n",
    "\n",
    "### 6.1.1 导言\n",
    "\n",
    "Python是目前非常流行的量化投资程序设计语言。所以，我们以Python为工具，为大家讲解量化投资的实验案例。\n",
    "\n",
    "Python设计者在开发时，遵循了一种指导思想：对于一个特定的问题，只要有一种最好的方法来解决就好了。这种思想和Perl语言截然相反。设计者特意为Python设计了限制性很强的语法，使得不好的编程习惯都不能通过编译，比如其缩进规则。这带来了它和其他大多数语言的区别：一个模块的界限，完全是由每行前的缩进来决定的，这一点曾引起过争议，反对者认为语言的含义与字符的排版分离是一种进步，Python在这一点完全是开倒车。但也不可否认的是，Python确实因此使其程序变得更加清晰和美观。通常，完成同一个任务，C语言可能需要写1000行，Java只需要写100行，而Python可能只要20行。当然，此时，C程序可能需要运行1秒钟，Java程序可能需要运行2秒钟，而Python程序可能就需要10秒。\n",
    "\n",
    "Python的设计者总是尽量避开不成熟或不重要的优化，他们认为，根据二八定律，大多数程序对速度要求并不高，所以并不需要特别的优化。而对于运行速度要求高的那部分程序，Python的设计者提供了调用C/C++的接口，让Python可以调用C/C++来运行这部分程序。\n",
    "\n",
    "Python是完全面向对象的语言。函数、模块、数字、字符串都是对象。并且完全迟滞继承、重载、派生、多继承。它也是一种脚本语言，尽管更高级。它的支持者更喜欢把它称为一种“高级动态编程语言”，以和“脚本语言”相区分。\n",
    "\n",
    "从2006年起，Google开始大力支持Python的发展，很多优秀的项目开始使用Python，在这个过程中，产生了大量的Python指南和教程以及支持工具，这也帮助了更多开发人员加入到Python的开发着阵营中。同时，这也暗示着，连Google都在大规模使用的程序设计语言，你学会之后，一定能有用武之地的。\n",
    "\n",
    "Python的快速发展和AI的快速发展处于同一时期，这使得Python拥有非常多而且非常强大的AI库，这使得它成为了AI时代最流行的程序设计语言之一。\n",
    "\n",
    "不仅如此，许多大型网站也是用Python开发的，例如YouTube、豆瓣等。除Google外，Yahoo、NASA（美国航空航天局）也都在大量使用Python。\n",
    "\n",
    "所以，准备好了吗？我们要开始了解Python和常用的财经数据接口包了。\n",
    "\n",
    "### 6.1.2 软件及软件包的安装\n",
    "\n",
    "我们在安装Jupyter Notebook时，如果是通过Anaconda安装的，那么Python以及常用的包，都已经安装在我们电脑上了。\n",
    "\n",
    "我们现在需要安装的，是财经数据接口包——TuShare。它是一个免费、开源的Python财经数据接口包。主要实现对股票等金融数据从数据采集、清洗加工到数据储存的过程，能够为金融分析人员提供快速、整洁、和多样的便于分析的数据，为他们在数据获取方面极大地减轻工作量，使他们更加专注于策略和模型的研究与实现上。考虑到Python pandas包在金融量化分析中体现出的优势，Tushare返回的绝大部分的数据格式都是pandas DataFrame类型，非常便于用pandas/NumPy/Matplotlib进行数据分析和可视化。\n",
    "\n",
    "下载安装方式：pip install tushare 或访问https://pypi.python.org/pypi/Tushare/ 下载安装\n",
    "\n",
    "版本升级：pip install tushare --upgrade\n",
    "\n",
    "### 6.1.3 Python基础\n",
    "\n",
    "我们知道，任何程序设计语言的第一步，就是学会打印“hello, world!”。我们也不例外：\n"
   ]
  },
  {
   "cell_type": "code",
   "execution_count": 1,
   "metadata": {},
   "outputs": [
    {
     "name": "stdout",
     "output_type": "stream",
     "text": [
      "hello, world!\n"
     ]
    }
   ],
   "source": [
    "print('hello, world!')"
   ]
  },
  {
   "cell_type": "markdown",
   "metadata": {},
   "source": [
    "Python对中文处理也较为友好，我们可以打印“你好，世界！”来体验一下："
   ]
  },
  {
   "cell_type": "code",
   "execution_count": 2,
   "metadata": {},
   "outputs": [
    {
     "name": "stdout",
     "output_type": "stream",
     "text": [
      "你好，世界！\n"
     ]
    }
   ],
   "source": [
    "print('你好，世界！')"
   ]
  },
  {
   "cell_type": "markdown",
   "metadata": {},
   "source": [
    "#### 6.1.3.1 标识符与缩进\n",
    "\n",
    "Python的变量名、函数名等标识符是由字母、数字、下划线组成的。\n",
    "字母大小写敏感。数字不能作为标识符的开头。\n",
    "\n",
    "以下划线开头的标识符是有特殊意义的。\n",
    "以单下划线开头的标识符代表不能直接访问的类属性，例如\\_foo；\n",
    "以双下划线开头的标识符代表类的私有成员，例如\\_\\_foo；\n",
    "以双下划线开头并且以双下划线结尾的标识符代表Python里特殊方法专用的标识，例如\\_\\_init\\_\\_()代表类的构造函数。\n",
    "\n",
    "Python中有以下保留字符，它们不能作为任何标识符名称：\n",
    "and/exec/not/assert/finally/or/break/for/pass/class/from/print/continue/global/raise/def/if/return/del/import/try/elif/in/while/else/is/with/except/lambda/yield\n",
    "\n",
    "Python使用缩进来写模块，这是它的特色："
   ]
  },
  {
   "cell_type": "code",
   "execution_count": 3,
   "metadata": {},
   "outputs": [
    {
     "name": "stdout",
     "output_type": "stream",
     "text": [
      "True!\n"
     ]
    }
   ],
   "source": [
    "if True:\n",
    "    print('True!')\n",
    "else:\n",
    "    print('False!')"
   ]
  },
  {
   "cell_type": "markdown",
   "metadata": {},
   "source": [
    "如果不严格执行缩进，则会出现错误提醒："
   ]
  },
  {
   "cell_type": "code",
   "execution_count": 4,
   "metadata": {},
   "outputs": [
    {
     "ename": "IndentationError",
     "evalue": "expected an indented block (<ipython-input-4-ae6aeb2ca497>, line 4)",
     "output_type": "error",
     "traceback": [
      "\u001b[1;36m  File \u001b[1;32m\"<ipython-input-4-ae6aeb2ca497>\"\u001b[1;36m, line \u001b[1;32m4\u001b[0m\n\u001b[1;33m    print('False!')\u001b[0m\n\u001b[1;37m        ^\u001b[0m\n\u001b[1;31mIndentationError\u001b[0m\u001b[1;31m:\u001b[0m expected an indented block\n"
     ]
    }
   ],
   "source": [
    "if True:\n",
    "    print('True!')\n",
    "else:\n",
    "print('False!')"
   ]
  },
  {
   "cell_type": "markdown",
   "metadata": {},
   "source": [
    "#### 6.1.3.2 分行\n",
    "\n",
    "Python把新行作为语句的结束符。但如果实在需要把一条语句分为多行来写，可以使用斜杠（\\）来分行："
   ]
  },
  {
   "cell_type": "code",
   "execution_count": 5,
   "metadata": {},
   "outputs": [
    {
     "name": "stdout",
     "output_type": "stream",
     "text": [
      "15\n"
     ]
    }
   ],
   "source": [
    "x = 1 + 2 + \\\n",
    "3 + 4 \\\n",
    "+ 5\n",
    "print(x)"
   ]
  },
  {
   "cell_type": "markdown",
   "metadata": {},
   "source": [
    "如果分行时，语句处于[],{},()中，就不需要使用斜杠："
   ]
  },
  {
   "cell_type": "code",
   "execution_count": 6,
   "metadata": {},
   "outputs": [
    {
     "name": "stdout",
     "output_type": "stream",
     "text": [
      "15\n"
     ]
    }
   ],
   "source": [
    "print(1 + 2 + \n",
    "     3 + 4\n",
    "     + 5)"
   ]
  },
  {
   "cell_type": "markdown",
   "metadata": {},
   "source": [
    "Python也可以在同一行中写入多条语句："
   ]
  },
  {
   "cell_type": "code",
   "execution_count": 7,
   "metadata": {},
   "outputs": [
    {
     "name": "stdout",
     "output_type": "stream",
     "text": [
      "9\n"
     ]
    }
   ],
   "source": [
    "x = 1 + 2; y = x * x; print(y)"
   ]
  },
  {
   "cell_type": "markdown",
   "metadata": {},
   "source": [
    "#### 6.1.3.2 引号与注释\n",
    "\n",
    "Python可以使用单引号（'）、双引号（\"）、三引号（'''或\"\"\"）来表示字符串，引号的开始与结束必须是相同类型。\n",
    "其中，三引号可以由多行组成，常用于文档字符串，也被当作大段注释使用。"
   ]
  },
  {
   "cell_type": "code",
   "execution_count": 8,
   "metadata": {},
   "outputs": [
    {
     "name": "stdout",
     "output_type": "stream",
     "text": [
      "hello\n",
      "world\n",
      "hello\n",
      "my\n",
      "world\n"
     ]
    }
   ],
   "source": [
    "x = 'hello'\n",
    "y = \"world\"\n",
    "z = '''hello\n",
    "my\n",
    "world'''\n",
    "print(x)\n",
    "print(y)\n",
    "print(z)"
   ]
  },
  {
   "cell_type": "markdown",
   "metadata": {},
   "source": [
    "Python中的单行语句的注释则是使用#开头："
   ]
  },
  {
   "cell_type": "code",
   "execution_count": 9,
   "metadata": {},
   "outputs": [
    {
     "name": "stdout",
     "output_type": "stream",
     "text": [
      "hello, world 1!\n",
      "hello, world 2!\n",
      "hello, world 3!\n"
     ]
    }
   ],
   "source": [
    "#本程序由xxx完成，注释一\n",
    "print(\"hello, world 1!\")#这是注释二\n",
    "\"\"\"\n",
    "这是注释三\n",
    "\"\"\"\n",
    "print(\"hello, world 2!\")\n",
    "'''\n",
    "这是注释四\n",
    "'''\n",
    "print(\"hello, world 3!\")"
   ]
  },
  {
   "cell_type": "markdown",
   "metadata": {},
   "source": [
    "#### 6.1.3.3 运算符\n",
    "\n",
    "Python提供常见的数学运算："
   ]
  },
  {
   "cell_type": "code",
   "execution_count": 10,
   "metadata": {},
   "outputs": [
    {
     "name": "stdout",
     "output_type": "stream",
     "text": [
      "6\n",
      "5\n",
      "35\n",
      "17.5\n",
      "2\n",
      "11\n",
      "121\n"
     ]
    }
   ],
   "source": [
    "x = 1 + 2 + 3\n",
    "y = x - 1\n",
    "z = x * y + y\n",
    "u = z / 2\n",
    "v = z % 3\n",
    "w = z // 3\n",
    "r = w ** 2\n",
    "print(x, y, z, u, v, w, r, sep='\\n')"
   ]
  },
  {
   "cell_type": "markdown",
   "metadata": {},
   "source": [
    "Python也提供赋值运算符："
   ]
  },
  {
   "cell_type": "code",
   "execution_count": 11,
   "metadata": {},
   "outputs": [
    {
     "name": "stdout",
     "output_type": "stream",
     "text": [
      "3\n",
      "5\n",
      "4\n",
      "20\n",
      "9\n",
      "3\n",
      "1.5\n",
      "2.25\n"
     ]
    }
   ],
   "source": [
    "a = 1 + 2\n",
    "print(a)\n",
    "a += 2\n",
    "print(a)\n",
    "a -= 1\n",
    "print(a)\n",
    "a *= 5\n",
    "print(a)\n",
    "a %= 11\n",
    "print(a)\n",
    "a //= 3\n",
    "print(a)\n",
    "a /= 2\n",
    "print(a)\n",
    "a **= 2\n",
    "print(a)"
   ]
  },
  {
   "cell_type": "markdown",
   "metadata": {},
   "source": [
    "Python也提供比较运算符："
   ]
  },
  {
   "cell_type": "code",
   "execution_count": 12,
   "metadata": {},
   "outputs": [
    {
     "name": "stdout",
     "output_type": "stream",
     "text": [
      "True\n",
      "True\n",
      "True\n",
      "False\n",
      "False\n",
      "True\n"
     ]
    }
   ],
   "source": [
    "print(1 == 1)\n",
    "print(2 != 3)\n",
    "print(2 < 3)\n",
    "print(2 > 3)\n",
    "print(2 >= 3)\n",
    "print(2 <= 3)"
   ]
  },
  {
   "cell_type": "markdown",
   "metadata": {},
   "source": [
    "Python也提供逻辑运算符："
   ]
  },
  {
   "cell_type": "code",
   "execution_count": 13,
   "metadata": {},
   "outputs": [
    {
     "name": "stdout",
     "output_type": "stream",
     "text": [
      "False\n",
      "True\n",
      "False\n"
     ]
    }
   ],
   "source": [
    "print(2 > 1 and 3 < 2)\n",
    "print(4 > 5 or 4 < 5)\n",
    "print(not 3 > 2)"
   ]
  },
  {
   "cell_type": "markdown",
   "metadata": {},
   "source": [
    "Python还支持集合成员运算符："
   ]
  },
  {
   "cell_type": "code",
   "execution_count": 14,
   "metadata": {},
   "outputs": [
    {
     "name": "stdout",
     "output_type": "stream",
     "text": [
      "True\n",
      "True\n"
     ]
    }
   ],
   "source": [
    "a = 10\n",
    "b = 5\n",
    "list = [1, 2, 3, 4, 5]\n",
    "print(b in list)\n",
    "print(a not in list)"
   ]
  },
  {
   "cell_type": "markdown",
   "metadata": {},
   "source": [
    "Python还支持身份运算符："
   ]
  },
  {
   "cell_type": "code",
   "execution_count": 15,
   "metadata": {},
   "outputs": [
    {
     "name": "stdout",
     "output_type": "stream",
     "text": [
      "True\n",
      "False\n",
      "True\n"
     ]
    }
   ],
   "source": [
    "a = 10\n",
    "b = 10\n",
    "print(a is b)\n",
    "print(a is not b)\n",
    "print(a == b)"
   ]
  },
  {
   "cell_type": "markdown",
   "metadata": {},
   "source": [
    "Python运算符优先级顺序如下：\n",
    "1. 乘方\n",
    "2. 一元加减\n",
    "3. 乘除，取模，整除\n",
    "4. 二元加减\n",
    "5. 大小比较\n",
    "6. 等于/不等于\n",
    "7. 赋值运算符\n",
    "8. 身份运算符\n",
    "9. 集合成员运算符\n",
    "10. 逻辑运算符\n",
    "\n",
    "### 6.1.4 Python的数据类型与数据结构\n",
    "\n",
    "Python的常见数据类型有：整数、浮点数、字符串。\n",
    "其中，字符串也可以看作数据结构。\n",
    "\n",
    "Python中常见数据结构有：列表、元组、字典。\n",
    "\n",
    "#### 6.1.4.1 字符串\n",
    "Python提供了如下字符串的操作："
   ]
  },
  {
   "cell_type": "code",
   "execution_count": 16,
   "metadata": {},
   "outputs": [
    {
     "name": "stdout",
     "output_type": "stream",
     "text": [
      "H\n",
      "el\n",
      "Hello, MoonLight!\n",
      "Hello, World!Hello, World!\n",
      "True\n"
     ]
    }
   ],
   "source": [
    "s = 'Hello, World!'\n",
    "print(s[0])\n",
    "print(s[1:3])\n",
    "print(s[:7] + 'MoonLight!')\n",
    "print(s * 2)\n",
    "print('e' in s)"
   ]
  },
  {
   "cell_type": "markdown",
   "metadata": {},
   "source": [
    "另外，模块string中提供了更多字符串的处理方法，可以在import之后使用。\n",
    "\n",
    "#### 6.1.4.2 列表\n",
    "\n",
    "列表是最常用的Python数据结构，具有丰富的操作："
   ]
  },
  {
   "cell_type": "code",
   "execution_count": 17,
   "metadata": {},
   "outputs": [
    {
     "name": "stdout",
     "output_type": "stream",
     "text": [
      "输出索引类例子：\n",
      "[1, 2, 3, 4]\n",
      "1\n",
      "[1, 2, 3]\n",
      "3\n",
      "输出性质描述类例子：\n",
      "4 4 1\n",
      "输出列表操作类例子：\n",
      "[1, 2, 3, 4, 5]\n",
      "[1, 2, 3, 4]\n",
      "[5, 1, 2, 3, 4]\n",
      "[5, 1, 2, 3]\n",
      "[3, 2, 1, 5]\n",
      "[1, 2, 3, 5]\n",
      "[1, 2, 5]\n",
      "输出列表运算类例子：\n",
      "[1, 2, 5, 1, 2, 5]\n",
      "[1, 2, 5, 1, 2, 5, 1, 2, 5]\n",
      "True\n",
      "1,2,5,"
     ]
    }
   ],
   "source": [
    "l = [1, 2, 3, 4]\n",
    "print('输出索引类例子：')\n",
    "print(l)\n",
    "print(l[0])\n",
    "print(l[0:3])\n",
    "print(l[-2])\n",
    "print('输出性质描述类例子：')\n",
    "print(len(l), max(l), min(l))\n",
    "print('输出列表操作类例子：')\n",
    "l.append(5)\n",
    "print(l)\n",
    "l.remove(5)\n",
    "print(l)\n",
    "l.insert(0, 5)\n",
    "print(l)\n",
    "l.pop()\n",
    "print(l)\n",
    "l.reverse()\n",
    "print(l)\n",
    "l.sort()\n",
    "print(l)\n",
    "del l[2]\n",
    "print(l)\n",
    "print('输出列表运算类例子：')\n",
    "print(l + l)\n",
    "print(l * 3)\n",
    "print(2 in l)\n",
    "for x in l: print(x, end=',')"
   ]
  },
  {
   "cell_type": "markdown",
   "metadata": {},
   "source": [
    "#### 6.1.4.3 元组\n",
    "\n",
    "元组和列表类似，不同之处在于元素不能修改。\n",
    "元组使用小括号，列表使用方括号。\n",
    "元组提供的操作并不多："
   ]
  },
  {
   "cell_type": "code",
   "execution_count": 18,
   "metadata": {},
   "outputs": [
    {
     "name": "stdout",
     "output_type": "stream",
     "text": [
      "(1, 2, 3, 4)\n",
      "(2, 3, 4)\n",
      "(1, 2, 3, 4, 1, 2, 3, 4)\n",
      "4\n"
     ]
    }
   ],
   "source": [
    "t = (1, 2, 3, 4)\n",
    "print(t)\n",
    "print(t[1:4])\n",
    "print(t * 2)\n",
    "print(max(t))"
   ]
  },
  {
   "cell_type": "markdown",
   "metadata": {},
   "source": [
    "任何无符号的对象，以逗号隔开，都默认为元组。\n",
    "所以，可以理解为一个常量的集合。\n",
    "\n",
    "#### 6.1.4.4 字典\n",
    "\n",
    "字典是一个键值对的集合，它使用大括号，\n",
    "键是唯一的，并且不可变，通常是字符串、数字、元组。\n",
    "它提供如下操作："
   ]
  },
  {
   "cell_type": "code",
   "execution_count": 19,
   "metadata": {},
   "outputs": [
    {
     "name": "stdout",
     "output_type": "stream",
     "text": [
      "{'key1': 1, 'key2': 2}\n",
      "1\n",
      "{'key1': 1, 'key2': 2, 'key3': 4}\n",
      "3\n",
      "dict_keys(['key1', 'key2', 'key3'])\n",
      "dict_values([1, 2, 4])\n",
      "dict_items([('key1', 1), ('key2', 2), ('key3', 4)])\n",
      "{'key2': 2, 'key3': 4}\n",
      "{}\n"
     ]
    }
   ],
   "source": [
    "d = {'key1':1, 'key2':2}\n",
    "print(d)\n",
    "print(d['key1'])\n",
    "d['key3'] = 4\n",
    "print(d)\n",
    "print(len(d))\n",
    "print(d.keys())\n",
    "print(d.values())\n",
    "print(d.items())\n",
    "del d['key1']\n",
    "print(d)\n",
    "d.clear();\n",
    "print(d)\n",
    "del d"
   ]
  },
  {
   "cell_type": "markdown",
   "metadata": {},
   "source": [
    "### 6.1.5 Python的逻辑控制语句\n",
    "\n",
    "逻辑控制语句主要指：条件控制、循环语句。\n",
    "\n",
    "#### 6.1.5.1 条件控制\n",
    "\n",
    "Python使用if, elif, else来实现条件语句，可以嵌套："
   ]
  },
  {
   "cell_type": "code",
   "execution_count": 20,
   "metadata": {},
   "outputs": [
    {
     "name": "stdout",
     "output_type": "stream",
     "text": [
      "1\n"
     ]
    }
   ],
   "source": [
    "if 3 > 2:\n",
    "    print(1)\n",
    "elif 3 == 2:\n",
    "    print(2)\n",
    "else:\n",
    "    print(3)"
   ]
  },
  {
   "cell_type": "markdown",
   "metadata": {},
   "source": [
    "Python中没有switch语句。另外要特别注意缩进。\n",
    "\n",
    "#### 6.1.5.2 循环语句\n",
    "\n",
    "Python提供while语句和for语句来实现循环。\n",
    "\n",
    "##### 6.1.5.2.1 while语句\n",
    "\n",
    "在使用while语句时，同样要注意冒号和缩进。\n",
    "同时，要注意，Python中并没有do...while语句。\n",
    "Python中，while可以和else同时使用，else后的内容表示while条件不满足时的执行内容。"
   ]
  },
  {
   "cell_type": "code",
   "execution_count": 21,
   "metadata": {},
   "outputs": [
    {
     "name": "stdout",
     "output_type": "stream",
     "text": [
      "0\n",
      "1\n",
      "2\n",
      "3\n",
      "4\n",
      "5\n",
      "6\n",
      "7\n",
      "8\n",
      "9\n",
      "11\n"
     ]
    }
   ],
   "source": [
    "x = 0\n",
    "while x < 10:\n",
    "    print(x)\n",
    "    x += 1\n",
    "else:\n",
    "    print(x + 1)"
   ]
  },
  {
   "cell_type": "markdown",
   "metadata": {},
   "source": [
    "##### 6.1.5.2.2 for语句\n",
    "\n",
    "在使用for语句时，同样要注意冒号和缩进。\n",
    "for语句可以遍历任何序列的对象，如一个列表或一个字符串。\n",
    "如果要便利数字序列，可以使用range()生成序列。"
   ]
  },
  {
   "cell_type": "code",
   "execution_count": 22,
   "metadata": {},
   "outputs": [
    {
     "name": "stdout",
     "output_type": "stream",
     "text": [
      "h e l l o \n",
      "0,1,2,3,4,"
     ]
    }
   ],
   "source": [
    "for c in \"hello\":\n",
    "    print(c, end=' ')\n",
    "print()\n",
    "for i in range(5):\n",
    "    print(i, end=',')"
   ]
  },
  {
   "cell_type": "markdown",
   "metadata": {},
   "source": [
    "##### 6.1.5.2.3 break、continue与pass\n",
    "\n",
    "Python中，break和continue的用法与其他语言完全一致，用于中断/继续循环。\n",
    "而pass则是其他语言少有的。\n",
    "它并没有什么用，就是个空语句，表示什么都不做。\n",
    "它只是为了保持程序结构的完整和美观而存在，类似一个占位符。\n",
    "\n",
    "### 6.1.6 Python的输入输出\n",
    "\n",
    "在前面的介绍中，我们已经多次使用Python的标准输出函数print了。\n",
    "在本节中，我们将介绍如何读取标准输入，以及如何读写文件。\n",
    "\n",
    "#### 6.1.6.1 读取标准输入\n",
    "\n",
    "读取标准输入，我们使用input函数。"
   ]
  },
  {
   "cell_type": "code",
   "execution_count": 23,
   "metadata": {},
   "outputs": [
    {
     "name": "stdout",
     "output_type": "stream",
     "text": [
      "请输入：（h-帮助，q-退出）q\n"
     ]
    }
   ],
   "source": [
    "while True:\n",
    "    s = input(\"请输入：（h-帮助，q-退出）\")\n",
    "    if s == 'h':\n",
    "        print('s-显示内容')\n",
    "        print('q-退出')\n",
    "    elif s == 's':\n",
    "        print('hello, world!')\n",
    "    elif s == 'q':\n",
    "        break\n",
    "    else:\n",
    "        print('wrong input! please input \\'h\\' to get help!')"
   ]
  },
  {
   "cell_type": "markdown",
   "metadata": {},
   "source": [
    "#### 6.1.6.2 读写文件\n",
    "\n",
    "Python使用open和close打开/关闭文件流，使用read/readlines/write来读取/写入流。"
   ]
  },
  {
   "cell_type": "code",
   "execution_count": 24,
   "metadata": {},
   "outputs": [
    {
     "name": "stdout",
     "output_type": "stream",
     "text": [
      "['hello, world!']\n"
     ]
    }
   ],
   "source": [
    "f = open(\"./tmp\", 'w')\n",
    "f.write(\"hello, world!\")\n",
    "f.close()\n",
    "\n",
    "f = open(\"./tmp\", 'r')\n",
    "s = f.readlines()\n",
    "print(s)\n",
    "f.close()"
   ]
  },
  {
   "cell_type": "markdown",
   "metadata": {},
   "source": [
    "### 6.1.7 Python的自定义函数\n",
    "\n",
    "Python使用def关键字来定义函数，使用return来指定返回值。"
   ]
  },
  {
   "cell_type": "code",
   "execution_count": 25,
   "metadata": {},
   "outputs": [
    {
     "name": "stdout",
     "output_type": "stream",
     "text": [
      "MoonLight, hello!\n",
      "1\n"
     ]
    }
   ],
   "source": [
    "def print_hello(name):\n",
    "    print(name, \"hello!\", sep=', ')\n",
    "    return 1\n",
    "print(print_hello(\"MoonLight\"))"
   ]
  },
  {
   "cell_type": "markdown",
   "metadata": {},
   "source": [
    "还可以通过lambda来创建匿名函数，以达到精简代码的效果。"
   ]
  },
  {
   "cell_type": "code",
   "execution_count": 26,
   "metadata": {},
   "outputs": [
    {
     "name": "stdout",
     "output_type": "stream",
     "text": [
      "Moon and Light, hello!\n"
     ]
    }
   ],
   "source": [
    "print_hello = lambda x, y: print(x, ' and ', y, ', ', 'hello!', sep='')\n",
    "print_hello('Moon', 'Light')"
   ]
  },
  {
   "cell_type": "markdown",
   "metadata": {},
   "source": [
    "### 6.1.8 Python面向对象编程\n",
    "\n",
    "Python是一门面向对象的语言。我们先来看一个简单的类："
   ]
  },
  {
   "cell_type": "code",
   "execution_count": 27,
   "metadata": {},
   "outputs": [
    {
     "name": "stdout",
     "output_type": "stream",
     "text": [
      "1\n",
      "3\n",
      "4\n"
     ]
    }
   ],
   "source": [
    "class MyClass:\n",
    "    __x0 = -1\n",
    "    x1 = 1\n",
    "    def __init__(self):\n",
    "        self.x2 = 2\n",
    "    def f(self):\n",
    "        print(self.x1)\n",
    "    def g(self):\n",
    "        self.x2 += 1\n",
    "        print(self.x2)\n",
    "        \n",
    "c = MyClass()\n",
    "c.f()\n",
    "c.g()\n",
    "c.g()"
   ]
  },
  {
   "cell_type": "markdown",
   "metadata": {},
   "source": [
    "其中，\n",
    "1. \\_\\_x0是私有属性，在类外部是无法直接访问的。\n",
    "2. x1是类的基本属性，在类的所有实例中，只初始化一次，并共享于该类的所有实例。\n",
    "3. \\_\\_init\\_\\_是构造函数\n",
    "4. self指类的实例\n",
    "5. x2是实例的属性，在类的不同实例中不同，x2在每个实例初始化时，于构造函数中初始化\n",
    "\n",
    "另外，类也可以继承，方法也可以重写："
   ]
  },
  {
   "cell_type": "code",
   "execution_count": 28,
   "metadata": {},
   "outputs": [
    {
     "name": "stdout",
     "output_type": "stream",
     "text": [
      "1\n",
      "5\n",
      "7\n"
     ]
    }
   ],
   "source": [
    "class NewClass(MyClass):\n",
    "    def __init__(self):\n",
    "        MyClass.__init__(self)\n",
    "        self.x3 = 3\n",
    "    def g(self):\n",
    "        self.x3 += 2\n",
    "        print(self.x3)\n",
    "        \n",
    "c = NewClass()\n",
    "c.f()\n",
    "c.g()\n",
    "c.g()"
   ]
  },
  {
   "cell_type": "markdown",
   "metadata": {},
   "source": [
    "### 6.1.9 了解TuShare包\n",
    "\n",
    "Tushare包提供以下数据：\n",
    "1. 交易数据\n",
    "    1. 历史行情\n",
    "    2. 复权数据\n",
    "    3. 实时行情\n",
    "    4. 历史分笔\n",
    "    5. 当日历史分比\n",
    "    6. 大盘指数行情列表\n",
    "    7. 大单交易数据\n",
    "2. 投资参考数据\n",
    "    1. 分配预案\n",
    "    2. 业绩预告\n",
    "    3. 限售股解禁\n",
    "    4. 基金持股\n",
    "    5. 新股数据\n",
    "    6. 融资融券\n",
    "3. 股票分类数据\n",
    "    1. 行业分类\n",
    "    2. 概念分类\n",
    "    3. 地域分类\n",
    "    4. 中小板分类\n",
    "    5. 创业板分类\n",
    "    6. 风险警示板分类\n",
    "    7. 指数成分股及权重\n",
    "    8. 终止/暂停上市股票列表\n",
    "4. 基本面数据\n",
    "    1. 股票列表\n",
    "    2. 业绩报告主表\n",
    "    3. 盈利能力\n",
    "    4. 营运能力\n",
    "    5. 成长能力\n",
    "    6. 偿债能力\n",
    "    7. 现金流量\n",
    "5. 宏观经济数据\n",
    "    1. 存贷款利率\n",
    "    2. 存款准备金率\n",
    "    3. 货币供应量\n",
    "    4. 国内生产总值\n",
    "    5. 三大需求对GDP的贡献\n",
    "    6. 三大产业对GDP的拉动\n",
    "    7. 居民消费价格指数\n",
    "    8. 工业品出厂价格指数\n",
    "6. 新闻事件数据\n",
    "    1. 即时新闻\n",
    "    2. 信息地雷\n",
    "    3. 新浪股吧\n",
    "7. 龙虎榜数据\n",
    "    1. 每日龙虎榜列表\n",
    "    2. 个股上榜统计\n",
    "    3. 营业部上榜统计\n",
    "    4. 机构席位追踪\n",
    "    5. 机构成交明细\n",
    "8. 银行间同业拆借利率\n",
    "    1. Shibor拆借利率\n",
    "    2. 银行报价数据\n",
    "    3. LPR\n",
    "9. 电影票房\n",
    "    1. 实时票房\n",
    "    2. 每日票房\n",
    "    3. 月度票房\n",
    "    4. 影院日度票房\n",
    "\n",
    "以上是TuShare提供的数据，数据质量较好。\n",
    "我们选择几个常用的数据接口来介绍，先导入包："
   ]
  },
  {
   "cell_type": "code",
   "execution_count": 29,
   "metadata": {},
   "outputs": [],
   "source": [
    "import tushare as ts"
   ]
  },
  {
   "cell_type": "markdown",
   "metadata": {},
   "source": [
    "使用函数读取浦发银行（600000）2017年1月的前复权日线行情："
   ]
  },
  {
   "cell_type": "code",
   "execution_count": 30,
   "metadata": {},
   "outputs": [
    {
     "name": "stdout",
     "output_type": "stream",
     "text": [
      "         date    open   close    high     low    volume    code\n",
      "0  2017-01-03  12.184  12.251  12.356  12.153  162371.0  600000\n",
      "1  2017-01-04  12.244  12.274  12.289  12.161  296587.0  600000\n",
      "2  2017-01-05  12.251  12.251  12.311  12.206  264376.0  600000\n",
      "3  2017-01-06  12.251  12.161  12.251  12.123  171955.0  600000\n",
      "4  2017-01-09  12.206  12.176  12.244  12.123  149087.0  600000\n"
     ]
    }
   ],
   "source": [
    "x = ts.get_k_data('600000', start='2017-01-01', end='2017-01-31')\n",
    "print(x.head())"
   ]
  },
  {
   "cell_type": "markdown",
   "metadata": {},
   "source": [
    "获取上证50指数成分股："
   ]
  },
  {
   "cell_type": "code",
   "execution_count": 31,
   "metadata": {},
   "outputs": [
    {
     "name": "stderr",
     "output_type": "stream",
     "text": [
      "C:\\Users\\huang\\Anaconda3\\lib\\site-packages\\tushare\\stock\\classifying.py:266: FutureWarning: the 'parse_cols' keyword is deprecated, use 'usecols' instead\n",
      "  ct.PAGES['sz50b']), parse_cols=[0, 4, 5])\n"
     ]
    },
    {
     "data": {
      "text/html": [
       "<div>\n",
       "<style scoped>\n",
       "    .dataframe tbody tr th:only-of-type {\n",
       "        vertical-align: middle;\n",
       "    }\n",
       "\n",
       "    .dataframe tbody tr th {\n",
       "        vertical-align: top;\n",
       "    }\n",
       "\n",
       "    .dataframe thead th {\n",
       "        text-align: right;\n",
       "    }\n",
       "</style>\n",
       "<table border=\"1\" class=\"dataframe\">\n",
       "  <thead>\n",
       "    <tr style=\"text-align: right;\">\n",
       "      <th></th>\n",
       "      <th>date</th>\n",
       "      <th>code</th>\n",
       "      <th>name</th>\n",
       "    </tr>\n",
       "  </thead>\n",
       "  <tbody>\n",
       "    <tr>\n",
       "      <th>0</th>\n",
       "      <td>2020-02-07</td>\n",
       "      <td>600000</td>\n",
       "      <td>浦发银行</td>\n",
       "    </tr>\n",
       "    <tr>\n",
       "      <th>1</th>\n",
       "      <td>2020-02-07</td>\n",
       "      <td>600009</td>\n",
       "      <td>上海机场</td>\n",
       "    </tr>\n",
       "    <tr>\n",
       "      <th>2</th>\n",
       "      <td>2020-02-07</td>\n",
       "      <td>600016</td>\n",
       "      <td>民生银行</td>\n",
       "    </tr>\n",
       "    <tr>\n",
       "      <th>3</th>\n",
       "      <td>2020-02-07</td>\n",
       "      <td>600028</td>\n",
       "      <td>中国石化</td>\n",
       "    </tr>\n",
       "    <tr>\n",
       "      <th>4</th>\n",
       "      <td>2020-02-07</td>\n",
       "      <td>600030</td>\n",
       "      <td>中信证券</td>\n",
       "    </tr>\n",
       "  </tbody>\n",
       "</table>\n",
       "</div>"
      ],
      "text/plain": [
       "         date    code  name\n",
       "0  2020-02-07  600000  浦发银行\n",
       "1  2020-02-07  600009  上海机场\n",
       "2  2020-02-07  600016  民生银行\n",
       "3  2020-02-07  600028  中国石化\n",
       "4  2020-02-07  600030  中信证券"
      ]
     },
     "execution_count": 31,
     "metadata": {},
     "output_type": "execute_result"
    }
   ],
   "source": [
    "s = ts.get_sz50s()\n",
    "s.head()"
   ]
  },
  {
   "cell_type": "markdown",
   "metadata": {},
   "source": [
    "获取所有股票的列表："
   ]
  },
  {
   "cell_type": "code",
   "execution_count": 32,
   "metadata": {},
   "outputs": [
    {
     "data": {
      "text/html": [
       "<div>\n",
       "<style scoped>\n",
       "    .dataframe tbody tr th:only-of-type {\n",
       "        vertical-align: middle;\n",
       "    }\n",
       "\n",
       "    .dataframe tbody tr th {\n",
       "        vertical-align: top;\n",
       "    }\n",
       "\n",
       "    .dataframe thead th {\n",
       "        text-align: right;\n",
       "    }\n",
       "</style>\n",
       "<table border=\"1\" class=\"dataframe\">\n",
       "  <thead>\n",
       "    <tr style=\"text-align: right;\">\n",
       "      <th></th>\n",
       "      <th>name</th>\n",
       "      <th>industry</th>\n",
       "      <th>area</th>\n",
       "      <th>pe</th>\n",
       "      <th>outstanding</th>\n",
       "      <th>totals</th>\n",
       "      <th>totalAssets</th>\n",
       "      <th>liquidAssets</th>\n",
       "      <th>fixedAssets</th>\n",
       "      <th>reserved</th>\n",
       "      <th>...</th>\n",
       "      <th>bvps</th>\n",
       "      <th>pb</th>\n",
       "      <th>timeToMarket</th>\n",
       "      <th>undp</th>\n",
       "      <th>perundp</th>\n",
       "      <th>rev</th>\n",
       "      <th>profit</th>\n",
       "      <th>gpr</th>\n",
       "      <th>npr</th>\n",
       "      <th>holders</th>\n",
       "    </tr>\n",
       "    <tr>\n",
       "      <th>code</th>\n",
       "      <th></th>\n",
       "      <th></th>\n",
       "      <th></th>\n",
       "      <th></th>\n",
       "      <th></th>\n",
       "      <th></th>\n",
       "      <th></th>\n",
       "      <th></th>\n",
       "      <th></th>\n",
       "      <th></th>\n",
       "      <th></th>\n",
       "      <th></th>\n",
       "      <th></th>\n",
       "      <th></th>\n",
       "      <th></th>\n",
       "      <th></th>\n",
       "      <th></th>\n",
       "      <th></th>\n",
       "      <th></th>\n",
       "      <th></th>\n",
       "      <th></th>\n",
       "    </tr>\n",
       "  </thead>\n",
       "  <tbody>\n",
       "    <tr>\n",
       "      <th>603893</th>\n",
       "      <td>N瑞芯微</td>\n",
       "      <td>半导体</td>\n",
       "      <td>福建</td>\n",
       "      <td>33.98</td>\n",
       "      <td>0.42</td>\n",
       "      <td>4.12</td>\n",
       "      <td>18.78</td>\n",
       "      <td>16.29</td>\n",
       "      <td>0.29</td>\n",
       "      <td>7.09</td>\n",
       "      <td>...</td>\n",
       "      <td>4.79</td>\n",
       "      <td>2.91</td>\n",
       "      <td>20200207</td>\n",
       "      <td>5.17</td>\n",
       "      <td>1.25</td>\n",
       "      <td>0.0</td>\n",
       "      <td>0.0</td>\n",
       "      <td>39.29</td>\n",
       "      <td>13.50</td>\n",
       "      <td>44709.0</td>\n",
       "    </tr>\n",
       "    <tr>\n",
       "      <th>688088</th>\n",
       "      <td>虹软科技</td>\n",
       "      <td>软件服务</td>\n",
       "      <td>浙江</td>\n",
       "      <td>188.48</td>\n",
       "      <td>0.40</td>\n",
       "      <td>4.06</td>\n",
       "      <td>26.80</td>\n",
       "      <td>26.28</td>\n",
       "      <td>0.15</td>\n",
       "      <td>18.71</td>\n",
       "      <td>...</td>\n",
       "      <td>5.99</td>\n",
       "      <td>14.65</td>\n",
       "      <td>20190722</td>\n",
       "      <td>1.67</td>\n",
       "      <td>0.41</td>\n",
       "      <td>0.0</td>\n",
       "      <td>0.0</td>\n",
       "      <td>94.15</td>\n",
       "      <td>34.32</td>\n",
       "      <td>18197.0</td>\n",
       "    </tr>\n",
       "    <tr>\n",
       "      <th>688008</th>\n",
       "      <td>澜起科技</td>\n",
       "      <td>半导体</td>\n",
       "      <td>上海</td>\n",
       "      <td>123.70</td>\n",
       "      <td>0.79</td>\n",
       "      <td>11.30</td>\n",
       "      <td>75.89</td>\n",
       "      <td>74.76</td>\n",
       "      <td>0.30</td>\n",
       "      <td>46.99</td>\n",
       "      <td>...</td>\n",
       "      <td>6.34</td>\n",
       "      <td>17.12</td>\n",
       "      <td>20190722</td>\n",
       "      <td>11.74</td>\n",
       "      <td>1.04</td>\n",
       "      <td>0.0</td>\n",
       "      <td>0.0</td>\n",
       "      <td>74.23</td>\n",
       "      <td>53.71</td>\n",
       "      <td>35336.0</td>\n",
       "    </tr>\n",
       "    <tr>\n",
       "      <th>688158</th>\n",
       "      <td>优刻得</td>\n",
       "      <td>互联网</td>\n",
       "      <td>上海</td>\n",
       "      <td>2606.66</td>\n",
       "      <td>0.44</td>\n",
       "      <td>4.23</td>\n",
       "      <td>20.88</td>\n",
       "      <td>0.00</td>\n",
       "      <td>0.00</td>\n",
       "      <td>0.00</td>\n",
       "      <td>...</td>\n",
       "      <td>8.46</td>\n",
       "      <td>10.46</td>\n",
       "      <td>20200120</td>\n",
       "      <td>0.00</td>\n",
       "      <td>0.00</td>\n",
       "      <td>0.0</td>\n",
       "      <td>0.0</td>\n",
       "      <td>0.00</td>\n",
       "      <td>1.00</td>\n",
       "      <td>31035.0</td>\n",
       "    </tr>\n",
       "    <tr>\n",
       "      <th>688111</th>\n",
       "      <td>金山办公</td>\n",
       "      <td>软件服务</td>\n",
       "      <td>北京</td>\n",
       "      <td>414.40</td>\n",
       "      <td>0.67</td>\n",
       "      <td>4.61</td>\n",
       "      <td>19.66</td>\n",
       "      <td>18.25</td>\n",
       "      <td>0.49</td>\n",
       "      <td>2.26</td>\n",
       "      <td>...</td>\n",
       "      <td>12.73</td>\n",
       "      <td>19.24</td>\n",
       "      <td>20191118</td>\n",
       "      <td>7.83</td>\n",
       "      <td>1.70</td>\n",
       "      <td>0.0</td>\n",
       "      <td>0.0</td>\n",
       "      <td>83.96</td>\n",
       "      <td>19.62</td>\n",
       "      <td>46069.0</td>\n",
       "    </tr>\n",
       "  </tbody>\n",
       "</table>\n",
       "<p>5 rows × 22 columns</p>\n",
       "</div>"
      ],
      "text/plain": [
       "        name industry area       pe  outstanding  totals  totalAssets  \\\n",
       "code                                                                    \n",
       "603893  N瑞芯微      半导体   福建    33.98         0.42    4.12        18.78   \n",
       "688088  虹软科技     软件服务   浙江   188.48         0.40    4.06        26.80   \n",
       "688008  澜起科技      半导体   上海   123.70         0.79   11.30        75.89   \n",
       "688158   优刻得      互联网   上海  2606.66         0.44    4.23        20.88   \n",
       "688111  金山办公     软件服务   北京   414.40         0.67    4.61        19.66   \n",
       "\n",
       "        liquidAssets  fixedAssets  reserved   ...      bvps     pb  \\\n",
       "code                                          ...                    \n",
       "603893         16.29         0.29      7.09   ...      4.79   2.91   \n",
       "688088         26.28         0.15     18.71   ...      5.99  14.65   \n",
       "688008         74.76         0.30     46.99   ...      6.34  17.12   \n",
       "688158          0.00         0.00      0.00   ...      8.46  10.46   \n",
       "688111         18.25         0.49      2.26   ...     12.73  19.24   \n",
       "\n",
       "        timeToMarket   undp  perundp  rev  profit    gpr    npr  holders  \n",
       "code                                                                      \n",
       "603893      20200207   5.17     1.25  0.0     0.0  39.29  13.50  44709.0  \n",
       "688088      20190722   1.67     0.41  0.0     0.0  94.15  34.32  18197.0  \n",
       "688008      20190722  11.74     1.04  0.0     0.0  74.23  53.71  35336.0  \n",
       "688158      20200120   0.00     0.00  0.0     0.0   0.00   1.00  31035.0  \n",
       "688111      20191118   7.83     1.70  0.0     0.0  83.96  19.62  46069.0  \n",
       "\n",
       "[5 rows x 22 columns]"
      ]
     },
     "execution_count": 32,
     "metadata": {},
     "output_type": "execute_result"
    }
   ],
   "source": [
    "s = ts.get_stock_basics()\n",
    "s.head()"
   ]
  },
  {
   "cell_type": "markdown",
   "metadata": {},
   "source": [
    "有时候在调用TuShare函数时，会报警告或长时间无法获得数据。 警告是因为其内置函数使用了一些Python不建议的用法，这点我们没办法。 长时间无法获取数据可能是网络原因。如果不是网络原因，建议换一个具有同样功能的函数使用。"
   ]
  },
  {
   "cell_type": "markdown",
   "metadata": {},
   "source": [
    "## 6.2 初步预测股票收益\n",
    "\n",
    "### 6.2.1 导言\n",
    "\n",
    "量化投资有两大主流门派：主动投资和被动投资。这也代表了不同的学术观点：市场到底是不是有效的？\n",
    "\n",
    "如果市场是有效的，那我们一定能找到赚钱的办法，只要付诸足够的努力，再加上一点点小小的天赋，我们应该是可以赚钱的，毕竟已经有那么多先贤赚了钱，那我们一定会倾向于选择主动投资。\n",
    "\n",
    "如果市场是无效的，那我们即使一辈子苦苦追寻，上下求索，也永远不可能超越市场，考虑到手续费等因素，再去除市场因素，那我们处于一个负和博弈中，并且我们相比其他人并不占任何优势，那我们不如选择被动投资。\n",
    "  \n",
    "如果我们要选择主动投资的道路，那就意味着我们要求自己的预测能力超过市场中基金经理的平均水平。\n",
    "这是一条很艰难的道路，我们是在用科学家的手段做艺术家的事，不过，虽然作品缺点灵魂，但总归也还能看。\n",
    "\n",
    "本节的重点就是，如何获得一个对股票收益的预测？\n",
    "\n",
    "\n",
    "### 6.2.2 基础知识回顾\n",
    "\n",
    "什么是预测？\n",
    "站在t时刻，利用t以及t之前所有时刻所获得的信息，对标的在t+1时刻相对于t时刻的收益率进行的预测。\n",
    "当我们经过单位时间，到达t+1时刻时，我们可以检验我们的预测是否准确。\n",
    "\n",
    "学过概率论的同学应该知道，对于一个连续分布，有\n",
    "$$P(X = X_0) = 0$$\n",
    "而我们的收益率很接近连续分布，自然也有类似性质。\n",
    "所以，讨论预测是否准确，应当有更多的工具和方法。\n",
    "\n",
    "在本节中，我们并不深入了解什么样的工具和方法是最好的，\n",
    "只是和大家一起，使用简单的编程工具，用最简单的方法，\n",
    "预测股票未来的收益率，并简单判断我们的预测是否准确。\n",
    "\n",
    "作为本书的第一个实验，我们控制了难度，\n",
    "既没有涉及复杂的编程，也没有涉及严谨的投资理论。\n",
    "目的是让读者能够在简单轻松的体验中，初识python，踏出量化交易的第一步。\n",
    "\n",
    "### 6.2.3 操作总览\n",
    "\n",
    "本实验主要由以下几个步骤组成：\n",
    "1. 步骤一：导入需要用到的包\n",
    "2. 步骤二：获取股票数据\n",
    "3. 步骤三：寻找并构造预测因子\n",
    "4. 步骤四：利用因子给股票池中的股票打分\n",
    "5. 步骤五：检验收益率预测的准确性\n",
    "\n",
    "## 6.2.4 操作流程\n",
    "\n",
    "### 6.2.4.1 步骤一：导入需要用到的包\n",
    "\n",
    "首先我们导入TuShare包，我们在上节介绍过它："
   ]
  },
  {
   "cell_type": "code",
   "execution_count": 33,
   "metadata": {},
   "outputs": [],
   "source": [
    "import tushare as ts"
   ]
  },
  {
   "cell_type": "markdown",
   "metadata": {},
   "source": [
    "然后导入Pandas包："
   ]
  },
  {
   "cell_type": "code",
   "execution_count": 34,
   "metadata": {},
   "outputs": [],
   "source": [
    "import pandas as pd"
   ]
  },
  {
   "cell_type": "markdown",
   "metadata": {},
   "source": [
    "Pandas包又称Python Data Analysis Library，是基于NumPy的一种工具，该工具为了解决数据分析任务而创建。它提供了大量可以高效地操作大型数据集所需的工具。\n",
    "它最早由AQR Capital Management于2008年4月开发，并于2009年底开源出来，现在属于PyData项目的一部分。它最初就被作为金融数据分析工具而被开发出来，因此为时间序列分析提供了很好的支持。它的名字来自于panel data和data analysis。\n",
    "我们具体用到Pandas提供的方法时，会更详细的介绍Pandas的。\n",
    "接下来我们导入Matplotlib包中的pyplot模块："
   ]
  },
  {
   "cell_type": "code",
   "execution_count": 35,
   "metadata": {},
   "outputs": [],
   "source": [
    "import matplotlib.pyplot as plt"
   ]
  },
  {
   "cell_type": "markdown",
   "metadata": {},
   "source": [
    "Matplotlib是一个Python的2D绘图库，它能生成出版质量级别的图形。 它可以以非常简单的代码，画出漂亮的线图、直方图、散点图等。\n",
    "我们具体用到它提供的方法时，会更详细的介绍它的。\n",
    "\n",
    "#### 6.2.4.2 步骤二：获取股票数据\n",
    "\n",
    "我们把待研究的股票圈定为上证50的成分股，以2017年的数据为研究对象。\n",
    "那首先，我们就需要获取上证50的成分股列表："
   ]
  },
  {
   "cell_type": "code",
   "execution_count": 36,
   "metadata": {},
   "outputs": [
    {
     "name": "stderr",
     "output_type": "stream",
     "text": [
      "C:\\Users\\huang\\Anaconda3\\lib\\site-packages\\tushare\\stock\\classifying.py:266: FutureWarning: the 'parse_cols' keyword is deprecated, use 'usecols' instead\n",
      "  ct.PAGES['sz50b']), parse_cols=[0, 4, 5])\n"
     ]
    },
    {
     "name": "stdout",
     "output_type": "stream",
     "text": [
      "0    600000\n",
      "1    600009\n",
      "2    600016\n",
      "3    600028\n",
      "4    600030\n",
      "Name: code, dtype: object\n"
     ]
    }
   ],
   "source": [
    "stock_list = ts.get_sz50s().code\n",
    "print(stock_list.head())"
   ]
  },
  {
   "cell_type": "markdown",
   "metadata": {},
   "source": [
    "我们把股票列表存在了变量stock_list里面， 但它是一个什么类型的变量呢？我们用type函数看一看："
   ]
  },
  {
   "cell_type": "code",
   "execution_count": 37,
   "metadata": {},
   "outputs": [
    {
     "name": "stdout",
     "output_type": "stream",
     "text": [
      "<class 'pandas.core.series.Series'>\n"
     ]
    }
   ],
   "source": [
    "print(type(stock_list))"
   ]
  },
  {
   "cell_type": "markdown",
   "metadata": {},
   "source": [
    "这说明它是Pandas提供的数据结构Series，即系列。 我们来看一看它提供了哪些方法："
   ]
  },
  {
   "cell_type": "code",
   "execution_count": 38,
   "metadata": {},
   "outputs": [
    {
     "name": "stdout",
     "output_type": "stream",
     "text": [
      "600000\n",
      "47    601989\n",
      "48    603259\n",
      "49    603993\n",
      "Name: code, dtype: object\n"
     ]
    }
   ],
   "source": [
    "print(stock_list[0])\n",
    "print(stock_list[-3:])"
   ]
  },
  {
   "cell_type": "markdown",
   "metadata": {},
   "source": [
    "系列中常用的方法就是索引，和Python提供的常用数据结构用法相同，很容易举一反三。\n",
    "然后，选择一只股票，试着获取其在考察期内的数据，我们先看600000这只股票："
   ]
  },
  {
   "cell_type": "code",
   "execution_count": 39,
   "metadata": {},
   "outputs": [
    {
     "name": "stdout",
     "output_type": "stream",
     "text": [
      "             open   high  close    low     volume  price_change  p_change  \\\n",
      "date                                                                        \n",
      "2017-12-29  12.52  12.62  12.59  12.51  163518.27          0.05      0.40   \n",
      "2017-12-28  12.60  12.66  12.54  12.53  238708.23         -0.08     -0.63   \n",
      "2017-12-27  12.65  12.66  12.62  12.53  327318.81         -0.02     -0.16   \n",
      "2017-12-26  12.57  12.66  12.64  12.56  152257.22          0.05      0.40   \n",
      "2017-12-25  12.61  12.68  12.60  12.56  193066.62         -0.02     -0.16   \n",
      "\n",
      "               ma5    ma10    ma20      v_ma5     v_ma10     v_ma20  \n",
      "date                                                                 \n",
      "2017-12-29  12.598  12.642  12.757  214973.83  203101.34  295878.94  \n",
      "2017-12-28  12.604  12.646  12.774  214424.05  202959.62  306991.75  \n",
      "2017-12-27  12.636  12.661  12.792  208787.18  195230.47  315014.51  \n",
      "2017-12-26  12.654  12.674  12.807  196603.11  181843.93  319571.96  \n",
      "2017-12-25  12.676  12.685  12.823  202950.87  196988.30  328975.06  \n"
     ]
    }
   ],
   "source": [
    "daily_data0 = ts.get_hist_data(stock_list[0], start = '2017-01-01', end = '2017-12-31')\n",
    "print(daily_data0.head())"
   ]
  },
  {
   "cell_type": "markdown",
   "metadata": {},
   "source": [
    "我们也可以用同样的方法，获取上证50全体成分股在考察期内的数据，我们把它存到字典这个数据结构中："
   ]
  },
  {
   "cell_type": "code",
   "execution_count": 40,
   "metadata": {},
   "outputs": [
    {
     "name": "stdout",
     "output_type": "stream",
     "text": [
      "timed out\n",
      "dict_keys(['600000', '600009', '600016', '600028', '600030', '600031', '600036', '600048', '600050', '600104', '600196', '600276', '600309', '600340', '600519', '600547', '600585', '600690', '600703', '600837', '600887', '601012', '601066', '601088', '601111', '601138', '601166', '601186', '601211', '601236', '601288', '601318', '601319', '601328', '601336', '601390', '601398', '601601', '601628', '601668', '601688', '601766', '601818', '601857', '601888', '601939', '601988', '601989', '603259', '603993'])\n"
     ]
    }
   ],
   "source": [
    "daily_data = {}\n",
    "for stock in stock_list:\n",
    "    daily_data[stock] = ts.get_hist_data(stock, start = '2017-01-01', end = '2017-12-31')\n",
    "print(daily_data.keys())"
   ]
  },
  {
   "cell_type": "markdown",
   "metadata": {},
   "source": [
    "#### 6.2.4.3 步骤三：寻找并构造预测因子\n",
    "\n",
    "寻找预测因子，这需要充分发挥我们的想象力。多阅读别人的经验，可以给我们更多的灵感，但也有可能禁锢我们的思维。但无论如何，我们还是从书丛中找到了一个因子，作为我们的例子。\n",
    "\n",
    "这个因子名字叫“红三兵”，即\n",
    "1. 连续三天阳线；\n",
    "2. 第二、三天开盘价在前一天阳线实体之内；\n",
    "3. 每天收盘价接近当天最高点；\n",
    "4. 三根阳线实体部分近似等长；\n",
    "5. 出现“红三兵”，看涨，记为1，否则记为0。\n",
    "\n",
    "同时满足这5条时，买入信号即触发，即我们给它评1分，否则评0分。\n",
    "\n",
    "我们按照上述规则，定义Python函数，来判断是否出现“红三兵”的形态。\n",
    "首先，我们构造一个函数，用于判断是否连续n日都是阳线："
   ]
  },
  {
   "cell_type": "code",
   "execution_count": 5,
   "metadata": {},
   "outputs": [],
   "source": [
    "def is_red(data, i, n):\n",
    "    if i > len(data) - n:\n",
    "        return False\n",
    "    else:\n",
    "        res = True\n",
    "        for j in range(i, i + n):\n",
    "            res = res and data.close[j] > data.open[j]\n",
    "            if not res:return False\n",
    "        return res"
   ]
  },
  {
   "cell_type": "markdown",
   "metadata": {},
   "source": [
    "接下来，我们构造一个函数，用于判断是否在连续n日中，每一根阳线都在前一天的阳线实体之内："
   ]
  },
  {
   "cell_type": "code",
   "execution_count": 6,
   "metadata": {},
   "outputs": [],
   "source": [
    "def is_open_in_last_entity(data, i, n):\n",
    "    if i > len(data) - n - 1:\n",
    "        return False\n",
    "    else:\n",
    "        res = True\n",
    "        for j in range(i, i + n):\n",
    "            res = res and data.open[j] > data.open[j + 1]\n",
    "            if not res: return False\n",
    "        return res"
   ]
  },
  {
   "cell_type": "markdown",
   "metadata": {},
   "source": [
    "接下来，我们构造一个函数，用于判断在连续n日中，是否每天收盘价接近当天最高点。 那么，如何定义“接近”呢？我们姑且认为，二者相差不超过1%即为接近吧。 于是这里产生了一个参数——1%，后期可能需要优化这个参数。"
   ]
  },
  {
   "cell_type": "code",
   "execution_count": 7,
   "metadata": {},
   "outputs": [],
   "source": [
    "def is_close_near_high(data, i, n, p = 0.01):\n",
    "    if i > len(data) - n:\n",
    "        return False\n",
    "    else:\n",
    "        res = True\n",
    "        for j in range(i, i + n):\n",
    "            if (data.high[j] <= 0): return False\n",
    "            res = res and (data.high[j] - data.close[j]) / data.high[j] < p\n",
    "        return res"
   ]
  },
  {
   "cell_type": "markdown",
   "metadata": {},
   "source": [
    "接下来，我们构造一个函数，用于判断连续n日中，是否每天k线实体近似等长。 那么，如何定义“近似等长”呢？我们姑且认为，最长者和最短者之差，不超过均值的80%吧。 于是这里又产生一个参数——80%，后期可能需要优化它。"
   ]
  },
  {
   "cell_type": "code",
   "execution_count": 8,
   "metadata": {},
   "outputs": [],
   "source": [
    "def is_entity_equal(data, i, n, p = 0.8):\n",
    "    if i > len(data) - n:\n",
    "        return False\n",
    "    else:\n",
    "        Max = 0\n",
    "        Min = 10000\n",
    "        Sum = 0\n",
    "        \n",
    "        for j in range(i, i + n):\n",
    "            e = abs(data['close'][j] - data['open'][j])\n",
    "            if e > Max: Max = e\n",
    "            if e < Min: Min = e\n",
    "            Sum = Sum + e\n",
    "            \n",
    "        if Sum > 0 and n > 0 and (Max - Min) / (Sum / n) < p:\n",
    "            return True\n",
    "        else:\n",
    "            return False"
   ]
  },
  {
   "cell_type": "markdown",
   "metadata": {},
   "source": [
    "综合前面四点，我们可以得到“红三兵”的判别函数。 加上“红三兵”的“三”，该函数共有三个参数，都可以在后期优化。"
   ]
  },
  {
   "cell_type": "code",
   "execution_count": 9,
   "metadata": {},
   "outputs": [],
   "source": [
    "def is_red_3_soldier(data, i, p1 = 3, p2 = 0.01, p3 = 0.8):\n",
    "    if i > len(data) - p1:\n",
    "        return False\n",
    "    else:\n",
    "        res1 = is_red(data, i, p1) and is_open_in_last_entity(data, i, p1 - 1) \n",
    "        res2 = is_close_near_high(data, i, p1, p2) and is_entity_equal(data, i, p1, p3)\n",
    "        return res1 and res2"
   ]
  },
  {
   "cell_type": "markdown",
   "metadata": {},
   "source": [
    "#### 6.2.4.4 步骤四：利用因子给股票池中的股票打分\n",
    "\n",
    "接下来，我们循环处理股票池中的每一只股票，找出其在考察期内，每天是否出现“红三兵”形态。 \n",
    "如果某日出现“红三兵”形态，就给该股票打1分，即预测未来一天该股票的收益率为1%，否则给该股票打0分，即预测其未来一天的收益率为0%。"
   ]
  },
  {
   "cell_type": "code",
   "execution_count": 10,
   "metadata": {},
   "outputs": [
    {
     "ename": "NameError",
     "evalue": "name 'stock_list' is not defined",
     "output_type": "error",
     "traceback": [
      "\u001b[0;31m---------------------------------------------------------------------------\u001b[0m",
      "\u001b[0;31mNameError\u001b[0m                                 Traceback (most recent call last)",
      "\u001b[0;32m<ipython-input-10-6e3db3737646>\u001b[0m in \u001b[0;36m<module>\u001b[0;34m\u001b[0m\n\u001b[1;32m      1\u001b[0m \u001b[0mred_3_s\u001b[0m \u001b[0;34m=\u001b[0m \u001b[0;34m[\u001b[0m\u001b[0;34m]\u001b[0m\u001b[0;34m\u001b[0m\u001b[0;34m\u001b[0m\u001b[0m\n\u001b[0;32m----> 2\u001b[0;31m \u001b[0;32mfor\u001b[0m \u001b[0mstock\u001b[0m \u001b[0;32min\u001b[0m \u001b[0mstock_list\u001b[0m\u001b[0;34m:\u001b[0m\u001b[0;34m\u001b[0m\u001b[0;34m\u001b[0m\u001b[0m\n\u001b[0m\u001b[1;32m      3\u001b[0m     \u001b[0mdata\u001b[0m \u001b[0;34m=\u001b[0m \u001b[0mdaily_data\u001b[0m\u001b[0;34m[\u001b[0m\u001b[0mstock\u001b[0m\u001b[0;34m]\u001b[0m\u001b[0;34m\u001b[0m\u001b[0;34m\u001b[0m\u001b[0m\n\u001b[1;32m      4\u001b[0m     \u001b[0;32mif\u001b[0m \u001b[0mdata\u001b[0m \u001b[0;32mis\u001b[0m \u001b[0;32mNone\u001b[0m\u001b[0;34m:\u001b[0m \u001b[0;32mcontinue\u001b[0m\u001b[0;34m\u001b[0m\u001b[0;34m\u001b[0m\u001b[0m\n\u001b[1;32m      5\u001b[0m     \u001b[0mred3s\u001b[0m \u001b[0;34m=\u001b[0m \u001b[0mpd\u001b[0m\u001b[0;34m.\u001b[0m\u001b[0mSeries\u001b[0m\u001b[0;34m(\u001b[0m\u001b[0;36m0.0\u001b[0m\u001b[0;34m,\u001b[0m \u001b[0mindex\u001b[0m\u001b[0;34m=\u001b[0m\u001b[0mrange\u001b[0m\u001b[0;34m(\u001b[0m\u001b[0mlen\u001b[0m\u001b[0;34m(\u001b[0m\u001b[0mdata\u001b[0m\u001b[0;34m)\u001b[0m\u001b[0;34m)\u001b[0m\u001b[0;34m)\u001b[0m\u001b[0;34m\u001b[0m\u001b[0;34m\u001b[0m\u001b[0m\n",
      "\u001b[0;31mNameError\u001b[0m: name 'stock_list' is not defined"
     ]
    }
   ],
   "source": [
    "red_3_s = []\n",
    "for stock in stock_list:\n",
    "    data = daily_data[stock]   \n",
    "    if data is None: continue\n",
    "    red3s = pd.Series(0.0, index=range(len(data)))\n",
    "    for i in range(len(data)):\n",
    "        if is_red_3_soldier(data, i, 3, 0.01, 0.8):\n",
    "            red3s[i] = 0.01\n",
    "        else:\n",
    "            red3s[i] = 0.00\n",
    "    red_3_s.append(red3s)  "
   ]
  },
  {
   "cell_type": "markdown",
   "metadata": {},
   "source": [
    "这样，我们就得出了收益率的预测值。 随便选择几只股票，画个图看看："
   ]
  },
  {
   "cell_type": "code",
   "execution_count": 11,
   "metadata": {},
   "outputs": [
    {
     "ename": "IndexError",
     "evalue": "list index out of range",
     "output_type": "error",
     "traceback": [
      "\u001b[0;31m---------------------------------------------------------------------------\u001b[0m",
      "\u001b[0;31mIndexError\u001b[0m                                Traceback (most recent call last)",
      "\u001b[0;32m<ipython-input-11-9dc3196aed0c>\u001b[0m in \u001b[0;36m<module>\u001b[0;34m\u001b[0m\n\u001b[0;32m----> 1\u001b[0;31m \u001b[0mred_3_s\u001b[0m\u001b[0;34m[\u001b[0m\u001b[0;36m7\u001b[0m\u001b[0;34m]\u001b[0m\u001b[0;34m.\u001b[0m\u001b[0mplot\u001b[0m\u001b[0;34m(\u001b[0m\u001b[0;34m)\u001b[0m\u001b[0;34m\u001b[0m\u001b[0;34m\u001b[0m\u001b[0m\n\u001b[0m\u001b[1;32m      2\u001b[0m \u001b[0mred_3_s\u001b[0m\u001b[0;34m[\u001b[0m\u001b[0;36m10\u001b[0m\u001b[0;34m]\u001b[0m\u001b[0;34m.\u001b[0m\u001b[0mplot\u001b[0m\u001b[0;34m(\u001b[0m\u001b[0;34m)\u001b[0m\u001b[0;34m\u001b[0m\u001b[0;34m\u001b[0m\u001b[0m\n\u001b[1;32m      3\u001b[0m \u001b[0mred_3_s\u001b[0m\u001b[0;34m[\u001b[0m\u001b[0;36m11\u001b[0m\u001b[0;34m]\u001b[0m\u001b[0;34m.\u001b[0m\u001b[0mplot\u001b[0m\u001b[0;34m(\u001b[0m\u001b[0;34m)\u001b[0m\u001b[0;34m\u001b[0m\u001b[0;34m\u001b[0m\u001b[0m\n\u001b[1;32m      4\u001b[0m \u001b[0mplt\u001b[0m\u001b[0;34m.\u001b[0m\u001b[0mshow\u001b[0m\u001b[0;34m(\u001b[0m\u001b[0;34m)\u001b[0m\u001b[0;34m\u001b[0m\u001b[0;34m\u001b[0m\u001b[0m\n",
      "\u001b[0;31mIndexError\u001b[0m: list index out of range"
     ]
    }
   ],
   "source": [
    "red_3_s[7].plot()\n",
    "red_3_s[10].plot()\n",
    "red_3_s[11].plot()\n",
    "plt.show()"
   ]
  },
  {
   "cell_type": "markdown",
   "metadata": {},
   "source": [
    "这里，我们用到了画图的功能。 我们知道，这里red_3_s[i]是Pandas中提供的Series对象， 它自己直接就提供画图的方法，即plot，可以直接使用。 画出图之后，再用Matplotlib提供的show来显示图片。 我们可以再画几个图来体验一下，先生产一个Series，注意需要用列表来生成："
   ]
  },
  {
   "cell_type": "code",
   "execution_count": 57,
   "metadata": {},
   "outputs": [
    {
     "name": "stdout",
     "output_type": "stream",
     "text": [
      "0    1\n",
      "1    2\n",
      "2    3\n",
      "3    4\n",
      "4    5\n",
      "dtype: int64\n"
     ]
    }
   ],
   "source": [
    "test = pd.Series([1,2,3,4,5])\n",
    "print(test)"
   ]
  },
  {
   "cell_type": "markdown",
   "metadata": {},
   "source": [
    "分成上下两块，然后分别画两种柱状图："
   ]
  },
  {
   "cell_type": "code",
   "execution_count": 58,
   "metadata": {},
   "outputs": [
    {
     "data": {
      "image/png": "[encoded data removed]",
      "text/plain": [
       "<Figure size 432x288 with 2 Axes>"
      ]
     },
     "metadata": {},
     "output_type": "display_data"
    }
   ],
   "source": [
    "fig, axes = plt.subplots(2, 1)\n",
    "test.plot(kind='bar', ax=axes[0])\n",
    "test.plot(kind='barh', ax=axes[1])\n",
    "plt.show()"
   ]
  },
  {
   "cell_type": "markdown",
   "metadata": {},
   "source": [
    "画线图，并加上网格："
   ]
  },
  {
   "cell_type": "code",
   "execution_count": 59,
   "metadata": {},
   "outputs": [
    {
     "data": {
      "image/png": "[encoded data removed]",
      "text/plain": [
       "<Figure size 432x288 with 1 Axes>"
      ]
     },
     "metadata": {},
     "output_type": "display_data"
    }
   ],
   "source": [
    "test.plot(grid = True)\n",
    "plt.show()"
   ]
  },
  {
   "cell_type": "markdown",
   "metadata": {},
   "source": [
    "画虚线图，并增加图例和标题："
   ]
  },
  {
   "cell_type": "code",
   "execution_count": 60,
   "metadata": {},
   "outputs": [
    {
     "data": {
      "image/png": "[encoded data removed]",
      "text/plain": [
       "<Figure size 432x288 with 1 Axes>"
      ]
     },
     "metadata": {},
     "output_type": "display_data"
    }
   ],
   "source": [
    "test.plot(style='--',title='test plot',label='data')\n",
    "plt.legend()\n",
    "plt.show()"
   ]
  },
  {
   "cell_type": "markdown",
   "metadata": {},
   "source": [
    "画直方图："
   ]
  },
  {
   "cell_type": "code",
   "execution_count": 61,
   "metadata": {},
   "outputs": [
    {
     "data": {
      "image/png": "[encoded data removed]",
      "text/plain": [
       "<Figure size 432x288 with 1 Axes>"
      ]
     },
     "metadata": {},
     "output_type": "display_data"
    }
   ],
   "source": [
    "test.hist()\n",
    "plt.show()"
   ]
  },
  {
   "cell_type": "markdown",
   "metadata": {},
   "source": [
    "以上，我们得出了收益率的预测值，并大致了解了Series的作图方法。\n",
    "\n",
    "#### 6.2.4.5 步骤五：检验收益率预测的准确性\n",
    "\n",
    "既已得到对未来收益的预测，\n",
    "那么，很自然的，下一步就是测试一下这个预测准不准了。\n",
    "关于如何判断一个预测模型好不好，\n",
    "会引入很多假设和复杂的推导，我们放在下一节来讨论。\n",
    "在本节中，我们采用一个简单的方法，\n",
    "对预测模型的好坏，做个初步的判断。\n",
    "\n",
    "我们将计算我们的每日对未来的预测收益率（1%或0%）与未来20天的真实收益率的相关系数。\n",
    "当然，相关系数的定义多样，最通行的算法是：\n",
    "$$\\mathbf{Corr}(X,Y) = \\frac{\\mathbf{E}(X - EX)(Y - EY)}{\\sigma_X \\sigma_Y}$$\n",
    "然而我们通常会采用一个简化算法：\n",
    "$$\\mathbf{Corr'}(X,Y) = \\frac{\\mathbf{E}XY}{\\sqrt{\\mathbf{E}X^2 \\cdot \\mathbf{E}Y^2}}$$\n",
    "这个算法基于一些对行情的假设：\n",
    "1. 在利用短期数据计算收益率的期望时，直接使用考察期内收益率的均值是不恰当的，应使用长期的收益率的均值。既然没有足够的数据，同时又只对短期进行计算，那么，一个既方便又合理的次优解就是假设该期望是0。\n",
    "2. 同理，在利用短期数据计算预测收益率的期望时，直接记为0也是一个既方便有合理的次优解。\n",
    "3. 就我们当前的情况而言，我们虽然只预测了“红三兵”，导致预测收益率总是非负的。但“绿三兵”是真实存在的，只是没有计算而已。故预测其实还是对称的，所以其均值取0是不无道理的。\n",
    "\n",
    "由于大部分时候预测收益率是0%，这为我们大幅降低了运算量。\n",
    "我们现在有了预测的序列，我们只需要再找出对应的收益率，就可以完成计算了。\n",
    "\n",
    "这里特别要注意的一点是，我们要使用整个面板数据来计算。\n",
    "这是因为我们应当假定所有股票是同质的，这样就能放在一起算相关系数了。\n",
    "如果股票不同质，则应该把不同质的因子找出来，然后控制变量后再计算。\n",
    "但既然我们目前只考虑“红三兵”这个单一因子，那么我们就应当认同其同质性。\n",
    "\n",
    "接下来，我们用和前文一样的方法，获得所有待研究股票的未来20日收益率："
   ]
  },
  {
   "cell_type": "code",
   "execution_count": 62,
   "metadata": {},
   "outputs": [],
   "source": [
    "rtn = []\n",
    "for stock in stock_list:\n",
    "    data = daily_data[stock]\n",
    "    if data is None: continue\n",
    "    r = pd.Series(0.0, index=range(len(data)))\n",
    "    for i in range(20, len(data)):\n",
    "        if data.close[i] > 0: r[i] = data.close[i - 20] / data.close[i] - 1\n",
    "    rtn.append(r)"
   ]
  },
  {
   "cell_type": "markdown",
   "metadata": {},
   "source": [
    "这样，我们就得到了预测收益率和未来20日真实收益率。\n",
    "但我们会明显的注意到，上述算法有很多问题，比如我们假定各股票等权重交易，不计手续费，且把持有20天的收益看作在当天就实现。\n",
    "如何解决这些问题呢？我们把它作为一个课堂练习，同学们就在此处，优化上面这段程序："
   ]
  },
  {
   "cell_type": "code",
   "execution_count": 63,
   "metadata": {},
   "outputs": [],
   "source": [
    "#在这里优化上面一段程序：\n",
    "rtn = []\n",
    "for stock in stock_list:\n",
    "    print('股票：',stock)\n",
    "    n=input('请输入购买股数：')\n",
    "    n=eval(n)\n",
    "    data = daily_data[stock]\n",
    "    if data is None: continue\n",
    "    r = pd.Series(0.0, index=range(len(data)))\n",
    "    for i in range(20, len(data)):\n",
    "        if data.close[i] > 0: \n",
    "            #买入费用：过户费和佣金，假设佣金收取0.03%\n",
    "            c1=int(n*0.0006)+1\n",
    "            c2=(int(data.close[i - 20]*n*0.0003/5)+1)*5\n",
    "            x=c1+c2\n",
    "            #卖出费用：印花税、过户费和佣金，假设佣金收取0.03%\n",
    "            c3=data.close[i-20]*n*0.001\n",
    "            c4=int(n*0.0006)+1\n",
    "            c5=(int(data.close[i-20]*n*0.0003/5)+1)*5\n",
    "            y=c3+c4+c5\n",
    "            r[i] = (data.close[i - 20] * n - y) / (data.close[i] * n - x) - 1\n",
    "    rtn.append(r)\n"
   ]
  },
  {
   "cell_type": "markdown",
   "metadata": {},
   "source": [
    "下面，我们一方面计算其相关系数； 另一方面，我们还可以假设每次“红三兵”出现，我们就买入，20日之后卖出。 我们可以计算这个策略的收益和资金曲线。\n",
    "我们先计算并输出相关系数："
   ]
  },
  {
   "cell_type": "code",
   "execution_count": 64,
   "metadata": {},
   "outputs": [
    {
     "name": "stdout",
     "output_type": "stream",
     "text": [
      "0.059469771927112704\n"
     ]
    }
   ],
   "source": [
    "sum_xy = 0\n",
    "sum_x2 = 0\n",
    "sum_y2 = 0\n",
    "daily_rtn = pd.Series(0.0, index=range(244))\n",
    "for i in range(len(red_3_s)):\n",
    "    for j in range(len(red_3_s[i])):\n",
    "        sum_xy += red_3_s[i][j] * rtn[i][j]\n",
    "        sum_x2 += red_3_s[i][j] * red_3_s[i][j]\n",
    "        sum_y2 += rtn[i][j] * rtn[i][j]\n",
    "        if red_3_s[i][j] > 0 :daily_rtn[j] += rtn[i][j] / 50.0\n",
    "        \n",
    "corr = sum_xy / pow(sum_x2 * sum_y2, 0.5)\n",
    "print(corr)"
   ]
  },
  {
   "cell_type": "markdown",
   "metadata": {},
   "source": [
    "上面我们计算了相关系数，但我们使用的方法远不完美， 比如，我们并不是使用的无偏估计。\n",
    "而且，像Python这么优美的语言，是一定有直接计算相关系数的函数的。 请读者自己查找Python中计算相关系数的函数，计算出对应的相关系数："
   ]
  },
  {
   "cell_type": "code",
   "execution_count": 17,
   "metadata": {},
   "outputs": [],
   "source": [
    "#相关系数的计算：\n",
    "import numpy as np\n",
    "x = []\n",
    "y = []\n",
    "for i in range(len(red_3_s)):\n",
    "    for j in range(len(red_3_s[i])):\n",
    "        x += red_3_s[i][j]\n",
    "        y += rtn[i][j]\n",
    "        \n",
    "co = np.vstack((x,y))\n",
    "corr = np.corrcoef(co)"
   ]
  },
  {
   "cell_type": "markdown",
   "metadata": {},
   "source": [
    "然后我们计算出总收益率，并画出资金曲线图："
   ]
  },
  {
   "cell_type": "code",
   "execution_count": 66,
   "metadata": {},
   "outputs": [
    {
     "data": {
      "image/png": "[encoded data removed]",
      "text/plain": [
       "<Figure size 432x288 with 1 Axes>"
      ]
     },
     "metadata": {},
     "output_type": "display_data"
    },
    {
     "name": "stdout",
     "output_type": "stream",
     "text": [
      "收益率为：2.7752255967472412%\n"
     ]
    }
   ],
   "source": [
    "cum_rtn = pd.Series(0.0, index=range(len(daily_rtn)))\n",
    "cum_rtn[0] = daily_rtn[len(daily_rtn) - 1]\n",
    "for i in range(1, len(cum_rtn)):\n",
    "    cum_rtn[i] = cum_rtn[i - 1] + daily_rtn[len(daily_rtn) - 1 - i]\n",
    "cum_rtn.plot()\n",
    "plt.show()\n",
    "print(\"收益率为：\",daily_rtn.sum()*100,'%',sep='')"
   ]
  },
  {
   "cell_type": "markdown",
   "metadata": {},
   "source": [
    "上面，我们画的图都比较简单，读者可应用我们上面讲得画图技巧，画出更漂亮的图。 我们把它作为一个课堂练习，读者可以尝试搜索一下python的画图函数， 了解其详细用法，画一个更漂亮的图在下面："
   ]
  },
  {
   "cell_type": "code",
   "execution_count": 67,
   "metadata": {},
   "outputs": [],
   "source": [
    "#更漂亮的图画在这里：\n",
    "cum_rtn = pd.Series(0.0, index=range(len(daily_rtn)))\n",
    "cum_rtn[0] = daily_rtn[len(daily_rtn) - 1]\n",
    "for i in range(1, len(cum_rtn)):\n",
    "    cum_rtn[i] = cum_rtn[i - 1] + daily_rtn[len(daily_rtn) - 1 - i]\n",
    "cum_rtn.plot(label='data',title='return',grid=True,'r-')\n",
    "plt.show()\n",
    "print(\"收益率为：\",daily_rtn.sum()*100,'%',sep='')"
   ]
  },
  {
   "cell_type": "markdown",
   "metadata": {},
   "source": [
    "这样，我们就成功的动手实验得到了一个收益率预测模型，并做了简单的测试。 得到了“红三兵”预测模型的预测收益率和未来20天真实收益率的相关系数约为0.036； 以及其作为一个交易策略的收益率4.47%。\n",
    "\n",
    "想必大家通过本实验，已经初步了解了python在量化交易中的用法。\n",
    "\n",
    "\n",
    "### 6.2.5 延申阅读：培养好的编程习惯\n",
    "\n",
    "在初步了解Python的用法之后，我们来讲一件非常严肃的事情——关于编程习惯的培养。\n",
    "\n",
    "好的编程习惯，对我们初学者来说，非常重要。\n",
    "一般来说，我们应以google等大厂的标准来要求自己。\n",
    "毕竟，我们在执行的时候，往往会打折扣。\n",
    "所以标准一定要定得高。\n",
    "\n",
    "我们在网上搜索“Python 编程规范 google”，\n",
    "可以得到很多结果，结合Python众社区的通用规范，我们加以整理，展示于此。\n",
    "\n",
    "#### 6.2.5.1 Python语言方面的准则\n",
    "\n",
    "##### 6.2.5.1.1 pychecker\n",
    "\n",
    "结论：建议使用。\n",
    "\n",
    "pychecher是从Python源代码中找Bug的工具。由于Python是一种动态化的语言，其中的一些警告可能并不正确，但误报是很罕见的。\n",
    "它可以比较好的捕捉容易犯的错误，比如拼写错误、在赋值之前就使用变量等等。\n",
    "\n",
    "##### 6.2.5.1.2 导入模块和包\n",
    "\n",
    "结论：\n",
    "1. 可以使用import x；\n",
    "2. 谨慎使用from x import y，当且仅当x是一个包，y是一个模块时才可使用。\n",
    "\n",
    "这可以实现代码的重用，是大型项目必须的。\n",
    "但它常常会引起一些问题，尤其是依赖上的问题，从而大大增加维护成本。\n",
    "比如，from foo import \\*，就很容易带来依赖上的问题。\n",
    "为了降低依赖上的问题，减小维护成本，我们才有了上面结论。\n",
    "\n",
    "##### 6.2.5.1.3 完整路径导入\n",
    "\n",
    "结论：\n",
    "1. 每个模块都应该使用完整路径来导入和引用。\n",
    "2. 不要为了方便而改变sys.path和PATHONPATH。\n",
    "\n",
    "这可以避免工作目录变化带来的导入和引用失败。\n",
    "总之，在导入和引用时，应尽量避免命名上的混乱。\n",
    "\n",
    "##### 6.2.5.1.4 异常处理\n",
    "\n",
    "结论：\n",
    "1. 模块和包应该定义自己的特定领域的基础异常类，而且这个类应该继承自内置的 Exception 类。这种用于一个模块的基础异常应该命名为 Error。 \n",
    "2. 不要直接捕获所有异常。\n",
    "3. 在try/except块内的代码量应尽可能小。\n",
    "\n",
    "异常处理是好的，但也应按照规范使用。\n",
    "\n",
    "##### 6.2.5.1.5 全局变量\n",
    "\n",
    "结论：避免使用\n",
    "\n",
    "包括在模块级别声明的变量。除非像PI一类的常量，否则尽量不要使用。\n",
    "\n",
    "##### 6.2.5.1.6 内嵌/本地/内部类和函数\n",
    "\n",
    "结论：可以用\n",
    "\n",
    "它可以让我们定义只用于一个非常有限的作用域内部的工具类和工具函数，带来了很多方便。\n",
    "\n",
    "##### 6.2.5.1.7 List Comprehensions\n",
    "\n",
    "结论：可以用，但应简明易懂。\n",
    "\n",
    "带来了效率上的提升，但有时也会使阅读代码变得更困难。Python始终看重简明易懂，即使牺牲一些效率也在所不惜。\n",
    "\n",
    "##### 6.2.5.1.8 默认迭代器和运算符\n",
    "\n",
    "结论：可以用\n",
    "\n",
    "它们往往简单而高效。注意不要再迭代过程中修改容器中的内容。\n",
    "\n",
    "##### 6.2.5.1.9 生成器\n",
    "\n",
    "结论：可以用，推荐。\n",
    "\n",
    "它可以使代码更简单，而且几乎没有缺点。\n",
    "\n",
    "##### 6.2.5.1.10 使用apply/filter/map/reduce\n",
    "\n",
    "结论：可以用，但应简明易懂\n",
    "\n",
    "它们可以使代码更紧凑，是一种内置列表操作函数，通常和lambda函数一起用。但有时也会带来阅读上的困难。\n",
    "\n",
    "##### 6.2.5.1.11 lambda函数\n",
    "\n",
    "结论：可以用，但应简明易懂\n",
    "\n",
    "它可以使代码更紧凑，但如果强行使用也会使代码更难读懂。\n",
    "\n",
    "##### 6.2.5.1.12 默认参数值\n",
    "\n",
    "结论：可以用，但应遵循规范：\n",
    "1. 不要把可变对象当作函数或方法定义的默认值\n",
    "2. 调用函数时应对默认参数进行指名赋值\n",
    "\n",
    "默认参数确实容易带来一些混乱，但也带来了很多方便。所以，需要在使用时遵循一些规范，减少混乱。\n",
    "\n",
    "##### 6.2.5.1.13 Properties\n",
    "\n",
    "结论：可以用。\n",
    "\n",
    "它提高了程序的可读性。\n",
    "\n",
    "##### 6.2.5.1.14 True/False\n",
    "\n",
    "结论：可以用。\n",
    "\n",
    "这是内置的布尔类型的常量，可以用。另外，None、0、{}、()等值也隐含False，可以用于布尔求值，这是代码更简洁，可读性提高。\n",
    "\n",
    "##### 6.2.5.1.15 String方法\n",
    "\n",
    "结论：推荐用。\n",
    "\n",
    "它包含了过去的string模块的很多方法。string模块已经废弃了，而String的使用几乎没什么缺点，推荐使用。\n",
    "\n",
    "##### 6.2.5. 1.16 静态域\n",
    "\n",
    "结论：可以用。\n",
    "\n",
    "它往往带来代码的简洁，并无什么缺点。\n",
    "\n",
    "##### 6.2.5.1.17 函数和方法修饰符\n",
    "\n",
    "结论：适度使用\n",
    "\n",
    "如 @classmethod 和 @staticmethod，它们把普通方法变成类方法或静态方法，它提高了代码的通用性，减少了冗余代码。但它也明显增加了意料之外的隐含行为，给代码增加了不必要的风险。\n",
    "\n",
    "##### 6.2.5.1.18 线程\n",
    "\n",
    "结论：不要用\n",
    "\n",
    "Google App Engine 不支持线程，所以在其他项目中也不要用。\n",
    "\n",
    "##### 6.2.5.1.19 高级特性\n",
    "\n",
    "结论：不要用\n",
    "\n",
    "Python有很多很酷炫的特性，能使代码更紧凑。但是紧凑的同时，往往就会牺牲可读性。很多Python程序员是从其它语言转到Python的，对Python的高级特性不够熟悉，为增加一点点紧凑性而大幅牺牲可读性，是不值得的。这也对推广Python不利。\n",
    "\n",
    "#### 6.2.5.2 Python编码风格方面的准则\n",
    "\n",
    "##### 6.2.5.2.1 分号\n",
    "\n",
    "结论：避免使用\n",
    "\n",
    "不用把两个语句放在一行，也不要把分号作为行的结束符。\n",
    "\n",
    "##### 6.2.5.2.2 每行长度\n",
    "\n",
    "结论：最多80个字符\n",
    "\n",
    "只有导入模块的行可以超过80个字符。如需分行，避免使用'\\'，应使用括号，确保分行的位置在括号内。\n",
    "\n",
    "##### 6.2.5.2.3 圆括号\n",
    "\n",
    "结论：吝啬使用\n",
    "\n",
    "尤其在以下情况，尽量不用：\n",
    "1. return语句中\n",
    "2. 条件语句中，除非2.5.2.2中所述情形\n",
    "3. 在元组周围\n",
    "\n",
    "以下情形可以用：\n",
    "1. 长表达式中，用于提高可读性\n",
    "2. 上述2.5.2.2中情形\n",
    "3. 运算符优先级比较复杂的情形，用于提高可读性\n",
    "\n",
    "##### 6.2.5.2.4 缩进\n",
    "\n",
    "结论：使用4个空格，不要用tab\n",
    "\n",
    "这个问题尚有争议，我们推荐这种用法。\n",
    "\n",
    "##### 6.2.5.2.5 空行\n",
    "\n",
    "结论：对函数和类用2空行，对类的方法用1空行\n",
    "\n",
    "##### 6.2.5.2.6 空格\n",
    "\n",
    "结论：\n",
    "1. 括号内侧不要加空格\n",
    "2. 在逗号、分号、冒号前面不要加空格。\n",
    "3. 逗号、分号、冒号后面必须加空格，除非那是行尾。\n",
    "4. 在表示参数、列表、下标、分块开始的圆括号/方括号前面不要加空格。\n",
    "5. 在二元运算符两边各家一个空格。\n",
    "6. 等号用于指名参数或默认参数值时，两边不要加空格。\n",
    "\n",
    "##### 6.2.5.2.7 Python解释器\n",
    "\n",
    "结论：用Google App Engine当前使用的那个。\n",
    "\n",
    "##### 6.2.5.2.8 注释\n",
    "\n",
    "结论：推荐使用__doc__String\n",
    "\n",
    "这是Python特有的。\n",
    "\n",
    "##### 6.2.5.2.9 类\n",
    "\n",
    "结论：如果不从其他基类继承，那就应该明确地从object基类继承。\n",
    "\n",
    "这一条对嵌套类也适用。\n",
    "\n",
    "##### 6.2.5.2.10 字符串\n",
    "\n",
    "结论：\n",
    "1. 字符串拼接时，避免使用+/+=，应使用%格式化字符串。除非是非常简单的情形。\n",
    "2. 多行字符串尽量不要用三引号，应使用括号。\n",
    "\n",
    "##### 6.2.5.2.11 TODO style\n",
    "\n",
    "结论：应使用：#TODO(username)\n",
    "\n",
    "主要是为了统一格式，方便按用户名检索。\n",
    "\n",
    "##### 6.2.5.2.12 import分组及顺序\n",
    "\n",
    "结论：\n",
    "1. 一行一个\n",
    "2. import 应该按照从最常用到最不常用的顺序分组放置：\n",
    "    1. import 标准库\n",
    "    2. import 第三方库\n",
    "    3. import Google App Engine 相关库\n",
    "    4. import Django 框架相关库\n",
    "    5. import SoC framework 相关库\n",
    "    6. import 基于 SoC 框架的模块\n",
    "    7. import 应用程序特有的内容\n",
    "3. 组内按字母顺序放置。\n",
    "\n",
    "##### 6.2.5.2.13 语句\n",
    "\n",
    "结论：一行只放一个语句，避免使用分号。\n",
    "\n",
    "##### 6.2.5.2.14 访问控制\n",
    "\n",
    "结论：\n",
    "1. 简单程序直接公开变量\n",
    "2. 复杂程序应使用getFoo()/setFoo()来访问foo\n",
    "\n",
    "##### 6.2.5.2.15 命名\n",
    "\n",
    "结论：\n",
    "1. 类名使用驼峰命名，首字母大写\n",
    "2. 常量全大写\n",
    "3. 其他变量和函数采用小写+下划线命名\n",
    "\n",
    "这个问题上Google和PEP8的建议不同，我们采用PEP8的建议。\n",
    "\n",
    "##### 6.2.5.2.16 程序入口\n",
    "\n",
    "结论：所有代码都应可以被导入，所以请注意导入时可能出现的问题。"
   ]
  },
  {
   "cell_type": "markdown",
   "metadata": {},
   "source": [
    "<div  style=\"color:black; width: 100%; border-top:2px #0f69b6 solid; height:40px;\"> \n",
    "<span style=\"color:#0f69b6; padding-left:10px; padding-top:10px;  float:left\">第 6 章</span>\n",
    "<span style=\"color:#0f69b6;  float:right; text-align: right; padding-right:10px; padding-top:10px;\">西南财经大学</span>\n",
    "</div>"
   ]
  }
 ],
 "metadata": {
  "kernelspec": {
   "display_name": "Python 3",
   "language": "python",
   "name": "python3"
  },
  "language_info": {
   "codemirror_mode": {
    "name": "ipython",
    "version": 3
   },
   "file_extension": ".py",
   "mimetype": "text/x-python",
   "name": "python",
   "nbconvert_exporter": "python",
   "pygments_lexer": "ipython3",
   "version": "3.7.3"
  },
  "toc": {
   "base_numbering": 1,
   "nav_menu": {},
   "number_sections": true,
   "sideBar": true,
   "skip_h1_title": false,
   "title_cell": "Table of Contents",
   "title_sidebar": "Contents",
   "toc_cell": false,
   "toc_position": {},
   "toc_section_display": true,
   "toc_window_display": false
  }
 },
 "nbformat": 4,
 "nbformat_minor": 2
}
